{
 "cells": [
  {
   "cell_type": "code",
   "execution_count": 2,
   "id": "636d3369-08d9-421d-9bd3-37e64cb853af",
   "metadata": {},
   "outputs": [
    {
     "name": "stdout",
     "output_type": "stream",
     "text": [
      "(14, 3)\n"
     ]
    },
    {
     "data": {
      "text/html": [
       "<div>\n",
       "<style scoped>\n",
       "    .dataframe tbody tr th:only-of-type {\n",
       "        vertical-align: middle;\n",
       "    }\n",
       "\n",
       "    .dataframe tbody tr th {\n",
       "        vertical-align: top;\n",
       "    }\n",
       "\n",
       "    .dataframe thead th {\n",
       "        text-align: right;\n",
       "    }\n",
       "</style>\n",
       "<table border=\"1\" class=\"dataframe\">\n",
       "  <thead>\n",
       "    <tr style=\"text-align: right;\">\n",
       "      <th></th>\n",
       "      <th>count</th>\n",
       "      <th>gender</th>\n",
       "      <th>year</th>\n",
       "    </tr>\n",
       "  </thead>\n",
       "  <tbody>\n",
       "    <tr>\n",
       "      <th>0</th>\n",
       "      <td>97</td>\n",
       "      <td>others</td>\n",
       "      <td>2021</td>\n",
       "    </tr>\n",
       "    <tr>\n",
       "      <th>1</th>\n",
       "      <td>2</td>\n",
       "      <td>feminist</td>\n",
       "      <td>2020</td>\n",
       "    </tr>\n",
       "    <tr>\n",
       "      <th>2</th>\n",
       "      <td>31</td>\n",
       "      <td>female</td>\n",
       "      <td>2020</td>\n",
       "    </tr>\n",
       "    <tr>\n",
       "      <th>3</th>\n",
       "      <td>527</td>\n",
       "      <td>male</td>\n",
       "      <td>2021</td>\n",
       "    </tr>\n",
       "    <tr>\n",
       "      <th>4</th>\n",
       "      <td>1</td>\n",
       "      <td>queer</td>\n",
       "      <td>2020</td>\n",
       "    </tr>\n",
       "  </tbody>\n",
       "</table>\n",
       "</div>"
      ],
      "text/plain": [
       "   count    gender  year\n",
       "0     97    others  2021\n",
       "1      2  feminist  2020\n",
       "2     31    female  2020\n",
       "3    527      male  2021\n",
       "4      1     queer  2020"
      ]
     },
     "metadata": {},
     "output_type": "display_data"
    },
    {
     "data": {
      "application/vnd.plotly.v1+json": {
       "config": {
        "displayModeBar": false,
        "displaylogo": false,
        "editable": false,
        "plotlyServerURL": "https://plot.ly",
        "scrollZoom": false,
        "showAxisDragHandles": false
       },
       "data": [
        {
         "alignmentgroup": "True",
         "hovertemplate": "year=2021<br>gender=%{x}<br>count=%{text}<extra></extra>",
         "legendgroup": "2021",
         "marker": {
          "color": "#636efa",
          "pattern": {
           "shape": ""
          }
         },
         "name": "2021",
         "offsetgroup": "2021",
         "orientation": "v",
         "showlegend": true,
         "text": {
          "bdata": "AAAAAABAWEAAAAAAAHiAQAAAAAAAgFFAAAAAAAB4jEAAAAAAAAAmQA==",
          "dtype": "f8"
         },
         "textposition": "outside",
         "texttemplate": "%{text}",
         "type": "bar",
         "x": [
          "others",
          "male",
          "feminist",
          "female",
          "queer"
         ],
         "xaxis": "x",
         "y": {
          "bdata": "YQAPAkYAjwMLAA==",
          "dtype": "i2"
         },
         "yaxis": "y"
        },
        {
         "alignmentgroup": "True",
         "hovertemplate": "year=2020<br>gender=%{x}<br>count=%{text}<extra></extra>",
         "legendgroup": "2020",
         "marker": {
          "color": "#EF553B",
          "pattern": {
           "shape": ""
          }
         },
         "name": "2020",
         "offsetgroup": "2020",
         "orientation": "v",
         "showlegend": true,
         "text": {
          "bdata": "AAAAAAAAAEAAAAAAAAA/QAAAAAAAAPA/AAAAAAAAFEAAAAAAAAAmQA==",
          "dtype": "f8"
         },
         "textposition": "outside",
         "texttemplate": "%{text}",
         "type": "bar",
         "x": [
          "feminist",
          "female",
          "queer",
          "male",
          "others"
         ],
         "xaxis": "x",
         "y": {
          "bdata": "Ah8BBQs=",
          "dtype": "i1"
         },
         "yaxis": "y"
        },
        {
         "alignmentgroup": "True",
         "hovertemplate": "year=2022<br>gender=%{x}<br>count=%{text}<extra></extra>",
         "legendgroup": "2022",
         "marker": {
          "color": "#00cc96",
          "pattern": {
           "shape": ""
          }
         },
         "name": "2022",
         "offsetgroup": "2022",
         "orientation": "v",
         "showlegend": true,
         "text": {
          "bdata": "AAAAAACAX0AAAAAAAAAiQAAAAAAAAABAAAAAAACAREA=",
          "dtype": "f8"
         },
         "textposition": "outside",
         "texttemplate": "%{text}",
         "type": "bar",
         "x": [
          "female",
          "feminist",
          "queer",
          "male"
         ],
         "xaxis": "x",
         "y": {
          "bdata": "fgkCKQ==",
          "dtype": "i1"
         },
         "yaxis": "y"
        }
       ],
       "layout": {
        "barmode": "group",
        "legend": {
         "title": {
          "text": "year"
         },
         "tracegroupgap": 0
        },
        "template": {
         "data": {
          "bar": [
           {
            "error_x": {
             "color": "#2a3f5f"
            },
            "error_y": {
             "color": "#2a3f5f"
            },
            "marker": {
             "line": {
              "color": "#E5ECF6",
              "width": 0.5
             },
             "pattern": {
              "fillmode": "overlay",
              "size": 10,
              "solidity": 0.2
             }
            },
            "type": "bar"
           }
          ],
          "barpolar": [
           {
            "marker": {
             "line": {
              "color": "#E5ECF6",
              "width": 0.5
             },
             "pattern": {
              "fillmode": "overlay",
              "size": 10,
              "solidity": 0.2
             }
            },
            "type": "barpolar"
           }
          ],
          "carpet": [
           {
            "aaxis": {
             "endlinecolor": "#2a3f5f",
             "gridcolor": "white",
             "linecolor": "white",
             "minorgridcolor": "white",
             "startlinecolor": "#2a3f5f"
            },
            "baxis": {
             "endlinecolor": "#2a3f5f",
             "gridcolor": "white",
             "linecolor": "white",
             "minorgridcolor": "white",
             "startlinecolor": "#2a3f5f"
            },
            "type": "carpet"
           }
          ],
          "choropleth": [
           {
            "colorbar": {
             "outlinewidth": 0,
             "ticks": ""
            },
            "type": "choropleth"
           }
          ],
          "contour": [
           {
            "colorbar": {
             "outlinewidth": 0,
             "ticks": ""
            },
            "colorscale": [
             [
              0,
              "#0d0887"
             ],
             [
              0.1111111111111111,
              "#46039f"
             ],
             [
              0.2222222222222222,
              "#7201a8"
             ],
             [
              0.3333333333333333,
              "#9c179e"
             ],
             [
              0.4444444444444444,
              "#bd3786"
             ],
             [
              0.5555555555555556,
              "#d8576b"
             ],
             [
              0.6666666666666666,
              "#ed7953"
             ],
             [
              0.7777777777777778,
              "#fb9f3a"
             ],
             [
              0.8888888888888888,
              "#fdca26"
             ],
             [
              1,
              "#f0f921"
             ]
            ],
            "type": "contour"
           }
          ],
          "contourcarpet": [
           {
            "colorbar": {
             "outlinewidth": 0,
             "ticks": ""
            },
            "type": "contourcarpet"
           }
          ],
          "heatmap": [
           {
            "colorbar": {
             "outlinewidth": 0,
             "ticks": ""
            },
            "colorscale": [
             [
              0,
              "#0d0887"
             ],
             [
              0.1111111111111111,
              "#46039f"
             ],
             [
              0.2222222222222222,
              "#7201a8"
             ],
             [
              0.3333333333333333,
              "#9c179e"
             ],
             [
              0.4444444444444444,
              "#bd3786"
             ],
             [
              0.5555555555555556,
              "#d8576b"
             ],
             [
              0.6666666666666666,
              "#ed7953"
             ],
             [
              0.7777777777777778,
              "#fb9f3a"
             ],
             [
              0.8888888888888888,
              "#fdca26"
             ],
             [
              1,
              "#f0f921"
             ]
            ],
            "type": "heatmap"
           }
          ],
          "histogram": [
           {
            "marker": {
             "pattern": {
              "fillmode": "overlay",
              "size": 10,
              "solidity": 0.2
             }
            },
            "type": "histogram"
           }
          ],
          "histogram2d": [
           {
            "colorbar": {
             "outlinewidth": 0,
             "ticks": ""
            },
            "colorscale": [
             [
              0,
              "#0d0887"
             ],
             [
              0.1111111111111111,
              "#46039f"
             ],
             [
              0.2222222222222222,
              "#7201a8"
             ],
             [
              0.3333333333333333,
              "#9c179e"
             ],
             [
              0.4444444444444444,
              "#bd3786"
             ],
             [
              0.5555555555555556,
              "#d8576b"
             ],
             [
              0.6666666666666666,
              "#ed7953"
             ],
             [
              0.7777777777777778,
              "#fb9f3a"
             ],
             [
              0.8888888888888888,
              "#fdca26"
             ],
             [
              1,
              "#f0f921"
             ]
            ],
            "type": "histogram2d"
           }
          ],
          "histogram2dcontour": [
           {
            "colorbar": {
             "outlinewidth": 0,
             "ticks": ""
            },
            "colorscale": [
             [
              0,
              "#0d0887"
             ],
             [
              0.1111111111111111,
              "#46039f"
             ],
             [
              0.2222222222222222,
              "#7201a8"
             ],
             [
              0.3333333333333333,
              "#9c179e"
             ],
             [
              0.4444444444444444,
              "#bd3786"
             ],
             [
              0.5555555555555556,
              "#d8576b"
             ],
             [
              0.6666666666666666,
              "#ed7953"
             ],
             [
              0.7777777777777778,
              "#fb9f3a"
             ],
             [
              0.8888888888888888,
              "#fdca26"
             ],
             [
              1,
              "#f0f921"
             ]
            ],
            "type": "histogram2dcontour"
           }
          ],
          "mesh3d": [
           {
            "colorbar": {
             "outlinewidth": 0,
             "ticks": ""
            },
            "type": "mesh3d"
           }
          ],
          "parcoords": [
           {
            "line": {
             "colorbar": {
              "outlinewidth": 0,
              "ticks": ""
             }
            },
            "type": "parcoords"
           }
          ],
          "pie": [
           {
            "automargin": true,
            "type": "pie"
           }
          ],
          "scatter": [
           {
            "fillpattern": {
             "fillmode": "overlay",
             "size": 10,
             "solidity": 0.2
            },
            "type": "scatter"
           }
          ],
          "scatter3d": [
           {
            "line": {
             "colorbar": {
              "outlinewidth": 0,
              "ticks": ""
             }
            },
            "marker": {
             "colorbar": {
              "outlinewidth": 0,
              "ticks": ""
             }
            },
            "type": "scatter3d"
           }
          ],
          "scattercarpet": [
           {
            "marker": {
             "colorbar": {
              "outlinewidth": 0,
              "ticks": ""
             }
            },
            "type": "scattercarpet"
           }
          ],
          "scattergeo": [
           {
            "marker": {
             "colorbar": {
              "outlinewidth": 0,
              "ticks": ""
             }
            },
            "type": "scattergeo"
           }
          ],
          "scattergl": [
           {
            "marker": {
             "colorbar": {
              "outlinewidth": 0,
              "ticks": ""
             }
            },
            "type": "scattergl"
           }
          ],
          "scattermap": [
           {
            "marker": {
             "colorbar": {
              "outlinewidth": 0,
              "ticks": ""
             }
            },
            "type": "scattermap"
           }
          ],
          "scattermapbox": [
           {
            "marker": {
             "colorbar": {
              "outlinewidth": 0,
              "ticks": ""
             }
            },
            "type": "scattermapbox"
           }
          ],
          "scatterpolar": [
           {
            "marker": {
             "colorbar": {
              "outlinewidth": 0,
              "ticks": ""
             }
            },
            "type": "scatterpolar"
           }
          ],
          "scatterpolargl": [
           {
            "marker": {
             "colorbar": {
              "outlinewidth": 0,
              "ticks": ""
             }
            },
            "type": "scatterpolargl"
           }
          ],
          "scatterternary": [
           {
            "marker": {
             "colorbar": {
              "outlinewidth": 0,
              "ticks": ""
             }
            },
            "type": "scatterternary"
           }
          ],
          "surface": [
           {
            "colorbar": {
             "outlinewidth": 0,
             "ticks": ""
            },
            "colorscale": [
             [
              0,
              "#0d0887"
             ],
             [
              0.1111111111111111,
              "#46039f"
             ],
             [
              0.2222222222222222,
              "#7201a8"
             ],
             [
              0.3333333333333333,
              "#9c179e"
             ],
             [
              0.4444444444444444,
              "#bd3786"
             ],
             [
              0.5555555555555556,
              "#d8576b"
             ],
             [
              0.6666666666666666,
              "#ed7953"
             ],
             [
              0.7777777777777778,
              "#fb9f3a"
             ],
             [
              0.8888888888888888,
              "#fdca26"
             ],
             [
              1,
              "#f0f921"
             ]
            ],
            "type": "surface"
           }
          ],
          "table": [
           {
            "cells": {
             "fill": {
              "color": "#EBF0F8"
             },
             "line": {
              "color": "white"
             }
            },
            "header": {
             "fill": {
              "color": "#C8D4E3"
             },
             "line": {
              "color": "white"
             }
            },
            "type": "table"
           }
          ]
         },
         "layout": {
          "annotationdefaults": {
           "arrowcolor": "#2a3f5f",
           "arrowhead": 0,
           "arrowwidth": 1
          },
          "autotypenumbers": "strict",
          "coloraxis": {
           "colorbar": {
            "outlinewidth": 0,
            "ticks": ""
           }
          },
          "colorscale": {
           "diverging": [
            [
             0,
             "#8e0152"
            ],
            [
             0.1,
             "#c51b7d"
            ],
            [
             0.2,
             "#de77ae"
            ],
            [
             0.3,
             "#f1b6da"
            ],
            [
             0.4,
             "#fde0ef"
            ],
            [
             0.5,
             "#f7f7f7"
            ],
            [
             0.6,
             "#e6f5d0"
            ],
            [
             0.7,
             "#b8e186"
            ],
            [
             0.8,
             "#7fbc41"
            ],
            [
             0.9,
             "#4d9221"
            ],
            [
             1,
             "#276419"
            ]
           ],
           "sequential": [
            [
             0,
             "#0d0887"
            ],
            [
             0.1111111111111111,
             "#46039f"
            ],
            [
             0.2222222222222222,
             "#7201a8"
            ],
            [
             0.3333333333333333,
             "#9c179e"
            ],
            [
             0.4444444444444444,
             "#bd3786"
            ],
            [
             0.5555555555555556,
             "#d8576b"
            ],
            [
             0.6666666666666666,
             "#ed7953"
            ],
            [
             0.7777777777777778,
             "#fb9f3a"
            ],
            [
             0.8888888888888888,
             "#fdca26"
            ],
            [
             1,
             "#f0f921"
            ]
           ],
           "sequentialminus": [
            [
             0,
             "#0d0887"
            ],
            [
             0.1111111111111111,
             "#46039f"
            ],
            [
             0.2222222222222222,
             "#7201a8"
            ],
            [
             0.3333333333333333,
             "#9c179e"
            ],
            [
             0.4444444444444444,
             "#bd3786"
            ],
            [
             0.5555555555555556,
             "#d8576b"
            ],
            [
             0.6666666666666666,
             "#ed7953"
            ],
            [
             0.7777777777777778,
             "#fb9f3a"
            ],
            [
             0.8888888888888888,
             "#fdca26"
            ],
            [
             1,
             "#f0f921"
            ]
           ]
          },
          "colorway": [
           "#636efa",
           "#EF553B",
           "#00cc96",
           "#ab63fa",
           "#FFA15A",
           "#19d3f3",
           "#FF6692",
           "#B6E880",
           "#FF97FF",
           "#FECB52"
          ],
          "font": {
           "color": "#2a3f5f"
          },
          "geo": {
           "bgcolor": "white",
           "lakecolor": "white",
           "landcolor": "#E5ECF6",
           "showlakes": true,
           "showland": true,
           "subunitcolor": "white"
          },
          "hoverlabel": {
           "align": "left"
          },
          "hovermode": "closest",
          "mapbox": {
           "style": "light"
          },
          "paper_bgcolor": "white",
          "plot_bgcolor": "#E5ECF6",
          "polar": {
           "angularaxis": {
            "gridcolor": "white",
            "linecolor": "white",
            "ticks": ""
           },
           "bgcolor": "#E5ECF6",
           "radialaxis": {
            "gridcolor": "white",
            "linecolor": "white",
            "ticks": ""
           }
          },
          "scene": {
           "xaxis": {
            "backgroundcolor": "#E5ECF6",
            "gridcolor": "white",
            "gridwidth": 2,
            "linecolor": "white",
            "showbackground": true,
            "ticks": "",
            "zerolinecolor": "white"
           },
           "yaxis": {
            "backgroundcolor": "#E5ECF6",
            "gridcolor": "white",
            "gridwidth": 2,
            "linecolor": "white",
            "showbackground": true,
            "ticks": "",
            "zerolinecolor": "white"
           },
           "zaxis": {
            "backgroundcolor": "#E5ECF6",
            "gridcolor": "white",
            "gridwidth": 2,
            "linecolor": "white",
            "showbackground": true,
            "ticks": "",
            "zerolinecolor": "white"
           }
          },
          "shapedefaults": {
           "line": {
            "color": "#2a3f5f"
           }
          },
          "ternary": {
           "aaxis": {
            "gridcolor": "white",
            "linecolor": "white",
            "ticks": ""
           },
           "baxis": {
            "gridcolor": "white",
            "linecolor": "white",
            "ticks": ""
           },
           "bgcolor": "#E5ECF6",
           "caxis": {
            "gridcolor": "white",
            "linecolor": "white",
            "ticks": ""
           }
          },
          "title": {
           "x": 0.05
          },
          "xaxis": {
           "automargin": true,
           "gridcolor": "white",
           "linecolor": "white",
           "ticks": "",
           "title": {
            "standoff": 15
           },
           "zerolinecolor": "white",
           "zerolinewidth": 2
          },
          "yaxis": {
           "automargin": true,
           "gridcolor": "white",
           "linecolor": "white",
           "ticks": "",
           "title": {
            "standoff": 15
           },
           "zerolinecolor": "white",
           "zerolinewidth": 2
          }
         }
        },
        "title": {
         "text": "Offensive Comments Targeting Gender Groups by Year",
         "x": 0.5
        },
        "uniformtext": {
         "minsize": 8,
         "mode": "hide"
        },
        "xaxis": {
         "anchor": "y",
         "categoryarray": [
          "male",
          "female",
          "feminist",
          "queer",
          "others"
         ],
         "categoryorder": "array",
         "domain": [
          0,
          1
         ],
         "title": {
          "text": "Gender"
         }
        },
        "yaxis": {
         "anchor": "x",
         "domain": [
          0,
          1
         ],
         "title": {
          "text": "Count"
         },
         "type": "log"
        }
       }
      }
     },
     "metadata": {},
     "output_type": "display_data"
    }
   ],
   "source": [
    "# pandas 관련 import  \n",
    "import pandas as pd  # 데이터프레임 및 데이터 처리 관련 기능 제공  \n",
    "\n",
    "# plotly 관련 import\n",
    "import plotly.express as px  # 인터랙티브 시각화 (예: scatter, bar 등) 생성  \n",
    "\n",
    "# 데이터프레임 로딩 관련 import\n",
    "from module.df.data_loader import get_gender_year_df  # 성별-연도별 집계 데이터 로딩\n",
    "\n",
    "# 성별 키워드 순서 지정  \n",
    "gender_order = [\n",
    "    \"male\",  # 남성\n",
    "    \"female\",  # 여성\n",
    "    \"feminist\",  # 페미니스트\n",
    "    \"queer\",  # 퀴어\n",
    "    \"others\"  # 기타 성별\n",
    "]\n",
    "\n",
    "# 성별-연도별 공격성 댓글 수 집계 데이터를 로딩  \n",
    "gender_year_counts = get_gender_year_df()\n",
    "print(gender_year_counts.shape)  # 데이터 확인용 출력\n",
    "display(gender_year_counts.head())  # 상위 5개 행 미리보기\n",
    "\n",
    "# 성별(gender)와 연도(year)에 따른 공격성 댓글 수를 막대그래프로 시각화  \n",
    "fig = px.bar(\n",
    "    gender_year_counts,  # 시각화에 사용할 데이터프레임\n",
    "    x=\"gender\",  # x축: 성별\n",
    "    y=\"count\",  # y축: 공격성 댓글 수\n",
    "    color=\"year\",  # 색상 구분 기준: 연도\n",
    "    barmode=\"group\",  # 막대그래프를 그룹형으로 표시\n",
    "    text=\"count\",  # 각 막대 위에 표시할 수치\n",
    "    title=\"Offensive Comments Targeting Gender Groups by Year\",  # 그래프 제목\n",
    "    category_orders={\"gender\": gender_order}  # 성별 항목의 표시 순서 지정\n",
    ")\n",
    "\n",
    "# 각 막대 위에 레이블(수치)를 막대 바깥쪽에 표시하고, 텍스트 형식 지정  \n",
    "fig.update_traces(textposition='outside', texttemplate='%{text}')\n",
    "\n",
    "# 레이아웃 설정  \n",
    "fig.update_layout(\n",
    "    xaxis_title=\"Gender\",  # x축 제목\n",
    "    yaxis_title=\"Count\",  # y축 제목\n",
    "    uniformtext_minsize=8,  # 텍스트 최소 크기 설정\n",
    "    yaxis_type=\"log\",  # y축을 로그 스케일로 설정\n",
    "    uniformtext_mode='hide',  # 텍스트가 잘릴 경우 숨김 처리\n",
    "    title_x=0.5  # 제목을 가로축 중앙에 정렬\n",
    ")\n",
    "\n",
    "# 그래프 표시  \n",
    "fig.show(config={\n",
    "    'displayModeBar': False,  # 상단 모드바 숨김\n",
    "    'scrollZoom': False,  # 마우스 스크롤 줌 비활성화\n",
    "    'displaylogo': False,  # Plotly 로고 숨김\n",
    "    'editable': False,  # 그래프 요소 편집 비활성화\n",
    "    'showAxisDragHandles': False  # 축 드래그 핸들 비활성화\n",
    "})"
   ]
  },
  {
   "cell_type": "code",
   "execution_count": 3,
   "id": "ad03b8c6-89f8-40c3-b892-727b22cde2e3",
   "metadata": {},
   "outputs": [
    {
     "data": {
      "application/vnd.plotly.v1+json": {
       "config": {
        "plotlyServerURL": "https://plot.ly"
       },
       "data": [
        {
         "customdata": [
          [
           "progressive"
          ],
          [
           "others"
          ],
          [
           "conservative"
          ]
         ],
         "domain": {
          "x": [
           0,
           0.31999999999999995
          ],
          "y": [
           0,
           1
          ]
         },
         "hole": 0.3,
         "hovertemplate": "year=2021<br>politics=%{customdata[0]}<br>Count=%{value}<extra></extra>",
         "labels": [
          "progressive",
          "others",
          "conservative"
         ],
         "legendgroup": "",
         "marker": {
          "colors": [
           "blue",
           "gray",
           "red"
          ]
         },
         "name": "",
         "showlegend": true,
         "textinfo": "percent+label",
         "type": "pie",
         "values": {
          "bdata": "HwP+AeUA",
          "dtype": "i2"
         }
        },
        {
         "customdata": [
          [
           "others"
          ],
          [
           "conservative"
          ],
          [
           "progressive"
          ]
         ],
         "domain": {
          "x": [
           0.33999999999999997,
           0.6599999999999999
          ],
          "y": [
           0,
           1
          ]
         },
         "hole": 0.3,
         "hovertemplate": "year=2022<br>politics=%{customdata[0]}<br>Count=%{value}<extra></extra>",
         "labels": [
          "others",
          "conservative",
          "progressive"
         ],
         "legendgroup": "",
         "marker": {
          "colors": [
           "gray",
           "red",
           "blue"
          ]
         },
         "name": "",
         "showlegend": true,
         "textinfo": "percent+label",
         "type": "pie",
         "values": {
          "bdata": "XQA9AIYA",
          "dtype": "i2"
         }
        },
        {
         "customdata": [
          [
           "progressive"
          ],
          [
           "others"
          ],
          [
           "conservative"
          ]
         ],
         "domain": {
          "x": [
           0.6799999999999999,
           0.9999999999999999
          ],
          "y": [
           0,
           1
          ]
         },
         "hole": 0.3,
         "hovertemplate": "year=2020<br>politics=%{customdata[0]}<br>Count=%{value}<extra></extra>",
         "labels": [
          "progressive",
          "others",
          "conservative"
         ],
         "legendgroup": "",
         "marker": {
          "colors": [
           "blue",
           "gray",
           "red"
          ]
         },
         "name": "",
         "showlegend": true,
         "textinfo": "percent+label",
         "type": "pie",
         "values": {
          "bdata": "dDAL",
          "dtype": "i1"
         }
        }
       ],
       "layout": {
        "annotations": [
         {
          "font": {},
          "showarrow": false,
          "text": "year=2021",
          "x": 0.15999999999999998,
          "xanchor": "center",
          "xref": "paper",
          "y": 1,
          "yanchor": "bottom",
          "yref": "paper"
         },
         {
          "font": {},
          "showarrow": false,
          "text": "year=2022",
          "x": 0.49999999999999994,
          "xanchor": "center",
          "xref": "paper",
          "y": 1,
          "yanchor": "bottom",
          "yref": "paper"
         },
         {
          "font": {},
          "showarrow": false,
          "text": "year=2020",
          "x": 0.8399999999999999,
          "xanchor": "center",
          "xref": "paper",
          "y": 1,
          "yanchor": "bottom",
          "yref": "paper"
         }
        ],
        "legend": {
         "itemdoubleclick": "toggle",
         "itemsizing": "constant",
         "itemwidth": 30,
         "tracegroupgap": 0,
         "traceorder": "normal"
        },
        "template": {
         "data": {
          "bar": [
           {
            "error_x": {
             "color": "#2a3f5f"
            },
            "error_y": {
             "color": "#2a3f5f"
            },
            "marker": {
             "line": {
              "color": "#E5ECF6",
              "width": 0.5
             },
             "pattern": {
              "fillmode": "overlay",
              "size": 10,
              "solidity": 0.2
             }
            },
            "type": "bar"
           }
          ],
          "barpolar": [
           {
            "marker": {
             "line": {
              "color": "#E5ECF6",
              "width": 0.5
             },
             "pattern": {
              "fillmode": "overlay",
              "size": 10,
              "solidity": 0.2
             }
            },
            "type": "barpolar"
           }
          ],
          "carpet": [
           {
            "aaxis": {
             "endlinecolor": "#2a3f5f",
             "gridcolor": "white",
             "linecolor": "white",
             "minorgridcolor": "white",
             "startlinecolor": "#2a3f5f"
            },
            "baxis": {
             "endlinecolor": "#2a3f5f",
             "gridcolor": "white",
             "linecolor": "white",
             "minorgridcolor": "white",
             "startlinecolor": "#2a3f5f"
            },
            "type": "carpet"
           }
          ],
          "choropleth": [
           {
            "colorbar": {
             "outlinewidth": 0,
             "ticks": ""
            },
            "type": "choropleth"
           }
          ],
          "contour": [
           {
            "colorbar": {
             "outlinewidth": 0,
             "ticks": ""
            },
            "colorscale": [
             [
              0,
              "#0d0887"
             ],
             [
              0.1111111111111111,
              "#46039f"
             ],
             [
              0.2222222222222222,
              "#7201a8"
             ],
             [
              0.3333333333333333,
              "#9c179e"
             ],
             [
              0.4444444444444444,
              "#bd3786"
             ],
             [
              0.5555555555555556,
              "#d8576b"
             ],
             [
              0.6666666666666666,
              "#ed7953"
             ],
             [
              0.7777777777777778,
              "#fb9f3a"
             ],
             [
              0.8888888888888888,
              "#fdca26"
             ],
             [
              1,
              "#f0f921"
             ]
            ],
            "type": "contour"
           }
          ],
          "contourcarpet": [
           {
            "colorbar": {
             "outlinewidth": 0,
             "ticks": ""
            },
            "type": "contourcarpet"
           }
          ],
          "heatmap": [
           {
            "colorbar": {
             "outlinewidth": 0,
             "ticks": ""
            },
            "colorscale": [
             [
              0,
              "#0d0887"
             ],
             [
              0.1111111111111111,
              "#46039f"
             ],
             [
              0.2222222222222222,
              "#7201a8"
             ],
             [
              0.3333333333333333,
              "#9c179e"
             ],
             [
              0.4444444444444444,
              "#bd3786"
             ],
             [
              0.5555555555555556,
              "#d8576b"
             ],
             [
              0.6666666666666666,
              "#ed7953"
             ],
             [
              0.7777777777777778,
              "#fb9f3a"
             ],
             [
              0.8888888888888888,
              "#fdca26"
             ],
             [
              1,
              "#f0f921"
             ]
            ],
            "type": "heatmap"
           }
          ],
          "histogram": [
           {
            "marker": {
             "pattern": {
              "fillmode": "overlay",
              "size": 10,
              "solidity": 0.2
             }
            },
            "type": "histogram"
           }
          ],
          "histogram2d": [
           {
            "colorbar": {
             "outlinewidth": 0,
             "ticks": ""
            },
            "colorscale": [
             [
              0,
              "#0d0887"
             ],
             [
              0.1111111111111111,
              "#46039f"
             ],
             [
              0.2222222222222222,
              "#7201a8"
             ],
             [
              0.3333333333333333,
              "#9c179e"
             ],
             [
              0.4444444444444444,
              "#bd3786"
             ],
             [
              0.5555555555555556,
              "#d8576b"
             ],
             [
              0.6666666666666666,
              "#ed7953"
             ],
             [
              0.7777777777777778,
              "#fb9f3a"
             ],
             [
              0.8888888888888888,
              "#fdca26"
             ],
             [
              1,
              "#f0f921"
             ]
            ],
            "type": "histogram2d"
           }
          ],
          "histogram2dcontour": [
           {
            "colorbar": {
             "outlinewidth": 0,
             "ticks": ""
            },
            "colorscale": [
             [
              0,
              "#0d0887"
             ],
             [
              0.1111111111111111,
              "#46039f"
             ],
             [
              0.2222222222222222,
              "#7201a8"
             ],
             [
              0.3333333333333333,
              "#9c179e"
             ],
             [
              0.4444444444444444,
              "#bd3786"
             ],
             [
              0.5555555555555556,
              "#d8576b"
             ],
             [
              0.6666666666666666,
              "#ed7953"
             ],
             [
              0.7777777777777778,
              "#fb9f3a"
             ],
             [
              0.8888888888888888,
              "#fdca26"
             ],
             [
              1,
              "#f0f921"
             ]
            ],
            "type": "histogram2dcontour"
           }
          ],
          "mesh3d": [
           {
            "colorbar": {
             "outlinewidth": 0,
             "ticks": ""
            },
            "type": "mesh3d"
           }
          ],
          "parcoords": [
           {
            "line": {
             "colorbar": {
              "outlinewidth": 0,
              "ticks": ""
             }
            },
            "type": "parcoords"
           }
          ],
          "pie": [
           {
            "automargin": true,
            "type": "pie"
           }
          ],
          "scatter": [
           {
            "fillpattern": {
             "fillmode": "overlay",
             "size": 10,
             "solidity": 0.2
            },
            "type": "scatter"
           }
          ],
          "scatter3d": [
           {
            "line": {
             "colorbar": {
              "outlinewidth": 0,
              "ticks": ""
             }
            },
            "marker": {
             "colorbar": {
              "outlinewidth": 0,
              "ticks": ""
             }
            },
            "type": "scatter3d"
           }
          ],
          "scattercarpet": [
           {
            "marker": {
             "colorbar": {
              "outlinewidth": 0,
              "ticks": ""
             }
            },
            "type": "scattercarpet"
           }
          ],
          "scattergeo": [
           {
            "marker": {
             "colorbar": {
              "outlinewidth": 0,
              "ticks": ""
             }
            },
            "type": "scattergeo"
           }
          ],
          "scattergl": [
           {
            "marker": {
             "colorbar": {
              "outlinewidth": 0,
              "ticks": ""
             }
            },
            "type": "scattergl"
           }
          ],
          "scattermap": [
           {
            "marker": {
             "colorbar": {
              "outlinewidth": 0,
              "ticks": ""
             }
            },
            "type": "scattermap"
           }
          ],
          "scattermapbox": [
           {
            "marker": {
             "colorbar": {
              "outlinewidth": 0,
              "ticks": ""
             }
            },
            "type": "scattermapbox"
           }
          ],
          "scatterpolar": [
           {
            "marker": {
             "colorbar": {
              "outlinewidth": 0,
              "ticks": ""
             }
            },
            "type": "scatterpolar"
           }
          ],
          "scatterpolargl": [
           {
            "marker": {
             "colorbar": {
              "outlinewidth": 0,
              "ticks": ""
             }
            },
            "type": "scatterpolargl"
           }
          ],
          "scatterternary": [
           {
            "marker": {
             "colorbar": {
              "outlinewidth": 0,
              "ticks": ""
             }
            },
            "type": "scatterternary"
           }
          ],
          "surface": [
           {
            "colorbar": {
             "outlinewidth": 0,
             "ticks": ""
            },
            "colorscale": [
             [
              0,
              "#0d0887"
             ],
             [
              0.1111111111111111,
              "#46039f"
             ],
             [
              0.2222222222222222,
              "#7201a8"
             ],
             [
              0.3333333333333333,
              "#9c179e"
             ],
             [
              0.4444444444444444,
              "#bd3786"
             ],
             [
              0.5555555555555556,
              "#d8576b"
             ],
             [
              0.6666666666666666,
              "#ed7953"
             ],
             [
              0.7777777777777778,
              "#fb9f3a"
             ],
             [
              0.8888888888888888,
              "#fdca26"
             ],
             [
              1,
              "#f0f921"
             ]
            ],
            "type": "surface"
           }
          ],
          "table": [
           {
            "cells": {
             "fill": {
              "color": "#EBF0F8"
             },
             "line": {
              "color": "white"
             }
            },
            "header": {
             "fill": {
              "color": "#C8D4E3"
             },
             "line": {
              "color": "white"
             }
            },
            "type": "table"
           }
          ]
         },
         "layout": {
          "annotationdefaults": {
           "arrowcolor": "#2a3f5f",
           "arrowhead": 0,
           "arrowwidth": 1
          },
          "autotypenumbers": "strict",
          "coloraxis": {
           "colorbar": {
            "outlinewidth": 0,
            "ticks": ""
           }
          },
          "colorscale": {
           "diverging": [
            [
             0,
             "#8e0152"
            ],
            [
             0.1,
             "#c51b7d"
            ],
            [
             0.2,
             "#de77ae"
            ],
            [
             0.3,
             "#f1b6da"
            ],
            [
             0.4,
             "#fde0ef"
            ],
            [
             0.5,
             "#f7f7f7"
            ],
            [
             0.6,
             "#e6f5d0"
            ],
            [
             0.7,
             "#b8e186"
            ],
            [
             0.8,
             "#7fbc41"
            ],
            [
             0.9,
             "#4d9221"
            ],
            [
             1,
             "#276419"
            ]
           ],
           "sequential": [
            [
             0,
             "#0d0887"
            ],
            [
             0.1111111111111111,
             "#46039f"
            ],
            [
             0.2222222222222222,
             "#7201a8"
            ],
            [
             0.3333333333333333,
             "#9c179e"
            ],
            [
             0.4444444444444444,
             "#bd3786"
            ],
            [
             0.5555555555555556,
             "#d8576b"
            ],
            [
             0.6666666666666666,
             "#ed7953"
            ],
            [
             0.7777777777777778,
             "#fb9f3a"
            ],
            [
             0.8888888888888888,
             "#fdca26"
            ],
            [
             1,
             "#f0f921"
            ]
           ],
           "sequentialminus": [
            [
             0,
             "#0d0887"
            ],
            [
             0.1111111111111111,
             "#46039f"
            ],
            [
             0.2222222222222222,
             "#7201a8"
            ],
            [
             0.3333333333333333,
             "#9c179e"
            ],
            [
             0.4444444444444444,
             "#bd3786"
            ],
            [
             0.5555555555555556,
             "#d8576b"
            ],
            [
             0.6666666666666666,
             "#ed7953"
            ],
            [
             0.7777777777777778,
             "#fb9f3a"
            ],
            [
             0.8888888888888888,
             "#fdca26"
            ],
            [
             1,
             "#f0f921"
            ]
           ]
          },
          "colorway": [
           "#636efa",
           "#EF553B",
           "#00cc96",
           "#ab63fa",
           "#FFA15A",
           "#19d3f3",
           "#FF6692",
           "#B6E880",
           "#FF97FF",
           "#FECB52"
          ],
          "font": {
           "color": "#2a3f5f"
          },
          "geo": {
           "bgcolor": "white",
           "lakecolor": "white",
           "landcolor": "#E5ECF6",
           "showlakes": true,
           "showland": true,
           "subunitcolor": "white"
          },
          "hoverlabel": {
           "align": "left"
          },
          "hovermode": "closest",
          "mapbox": {
           "style": "light"
          },
          "paper_bgcolor": "white",
          "plot_bgcolor": "#E5ECF6",
          "polar": {
           "angularaxis": {
            "gridcolor": "white",
            "linecolor": "white",
            "ticks": ""
           },
           "bgcolor": "#E5ECF6",
           "radialaxis": {
            "gridcolor": "white",
            "linecolor": "white",
            "ticks": ""
           }
          },
          "scene": {
           "xaxis": {
            "backgroundcolor": "#E5ECF6",
            "gridcolor": "white",
            "gridwidth": 2,
            "linecolor": "white",
            "showbackground": true,
            "ticks": "",
            "zerolinecolor": "white"
           },
           "yaxis": {
            "backgroundcolor": "#E5ECF6",
            "gridcolor": "white",
            "gridwidth": 2,
            "linecolor": "white",
            "showbackground": true,
            "ticks": "",
            "zerolinecolor": "white"
           },
           "zaxis": {
            "backgroundcolor": "#E5ECF6",
            "gridcolor": "white",
            "gridwidth": 2,
            "linecolor": "white",
            "showbackground": true,
            "ticks": "",
            "zerolinecolor": "white"
           }
          },
          "shapedefaults": {
           "line": {
            "color": "#2a3f5f"
           }
          },
          "ternary": {
           "aaxis": {
            "gridcolor": "white",
            "linecolor": "white",
            "ticks": ""
           },
           "baxis": {
            "gridcolor": "white",
            "linecolor": "white",
            "ticks": ""
           },
           "bgcolor": "#E5ECF6",
           "caxis": {
            "gridcolor": "white",
            "linecolor": "white",
            "ticks": ""
           }
          },
          "title": {
           "x": 0.05
          },
          "xaxis": {
           "automargin": true,
           "gridcolor": "white",
           "linecolor": "white",
           "ticks": "",
           "title": {
            "standoff": 15
           },
           "zerolinecolor": "white",
           "zerolinewidth": 2
          },
          "yaxis": {
           "automargin": true,
           "gridcolor": "white",
           "linecolor": "white",
           "ticks": "",
           "title": {
            "standoff": 15
           },
           "zerolinecolor": "white",
           "zerolinewidth": 2
          }
         }
        },
        "title": {
         "text": "Comparison of Offensive Comments Based on Political Views by Year",
         "x": 0.5
        },
        "uniformtext": {
         "minsize": 8,
         "mode": "hide"
        }
       }
      }
     },
     "metadata": {},
     "output_type": "display_data"
    }
   ],
   "source": [
    "# pandas 관련 import\n",
    "import pandas as pd  # 데이터프레임 및 데이터 처리 관련 기능 제공\n",
    "\n",
    "# plotly 관련 import\n",
    "import plotly.express as px  # 인터랙티브 시각화 (예: scatter, bar 등) 생성\n",
    "\n",
    "# 데이터프레임 로딩 관련 import\n",
    "from module.df.data_loader import get_politics_year_df  # 정치 성향-연도별 집계 데이터 로딩\n",
    "\n",
    "# 파이프라인 실행 결과를 데이터프레임으로 로드\n",
    "politics_year_counts = get_politics_year_df()\n",
    "\n",
    "# 각 연도별 총 공격성 댓글 수를 계산하여 동일한 길이로 반환\n",
    "total_counts_by_year = politics_year_counts.groupby(\"year\")[\"count\"].transform(\"sum\")\n",
    "\n",
    "# 각 정치 성향의 비율(%)을 계산하여 'percentage' 열에 저장\n",
    "politics_year_counts[\"percentage\"] = politics_year_counts[\"count\"] / total_counts_by_year * 100\n",
    "\n",
    "# 연도별 정치 성향에 따른 공격성 댓글 분포를 도넛형 파이 차트로 시각화\n",
    "fig = px.pie(\n",
    "    politics_year_counts,  # 시각화에 사용할 데이터프레임\n",
    "    names=\"politics\",  # 각 조각의 이름: 정치 성향\n",
    "    values=\"count\",  # 각 조각의 크기: 댓글 수\n",
    "    color=\"politics\",  # 색상 구분 기준: 정치 성향\n",
    "    facet_col=\"year\",  # 연도별로 그래프 분할(facet)\n",
    "    title=\"Comparison of Offensive Comments Based on Political Views by Year\",  # 그래프 제목\n",
    "    color_discrete_map={  # 정치 성향별 색상 지정\n",
    "        \"conservative\": \"red\",  # 보수: 빨간색\n",
    "        \"progressive\": \"blue\",  # 진보: 파란색\n",
    "        \"others\": \"gray\"  # 기타: 회색\n",
    "    },\n",
    "    hole=0.3,  # 도넛 차트로 표시\n",
    "    labels={\"percentage\": \"%\", \"count\": \"Count\"}  # 레이블 표시 형식\n",
    ")\n",
    "\n",
    "# 각 파이 조각에 퍼센트와 레이블(정치 성향)을 함께 표시\n",
    "fig.update_traces(textinfo=\"percent+label\")\n",
    "\n",
    "# 레이아웃 설정: 텍스트 스타일, 제목 정렬, 범례 설정 등 구성\n",
    "fig.update_layout(\n",
    "    uniformtext_minsize=8,  # 텍스트 최소 크기 설정\n",
    "    uniformtext_mode='hide',  # 텍스트가 너무 작으면 숨김\n",
    "    title_x=0.5,  # 제목을 가운데 정렬\n",
    "    legend=dict(  # 범례 설정\n",
    "        itemsizing='constant',  # 범례 항목 크기 고정\n",
    "        traceorder='normal',  # 범례 항목 순서는 데이터 순서 그대로\n",
    "        itemdoubleclick='toggle',  # 더블클릭 시 해당 항목만 표시\n",
    "        tracegroupgap=0,  # 범례 그룹 간 간격 없음\n",
    "        itemwidth=30  # 범례 항목 너비 설정\n",
    "    )\n",
    ")\n",
    "\n",
    "# 그래프 출력\n",
    "fig.show()\n"
   ]
  },
  {
   "cell_type": "code",
   "execution_count": 4,
   "id": "c8139276-cc69-4033-9132-c43e09f53d44",
   "metadata": {},
   "outputs": [
    {
     "data": {
      "application/vnd.plotly.v1+json": {
       "config": {
        "plotlyServerURL": "https://plot.ly"
       },
       "data": [
        {
         "colorscale": [
          [
           0,
           "rgb(255,255,204)"
          ],
          [
           0.125,
           "rgb(255,237,160)"
          ],
          [
           0.25,
           "rgb(254,217,118)"
          ],
          [
           0.375,
           "rgb(254,178,76)"
          ],
          [
           0.5,
           "rgb(253,141,60)"
          ],
          [
           0.625,
           "rgb(252,78,42)"
          ],
          [
           0.75,
           "rgb(227,26,28)"
          ],
          [
           0.875,
           "rgb(189,0,38)"
          ],
          [
           1,
           "rgb(128,0,38)"
          ]
         ],
         "hovertemplate": "Year: %{x}<br>Race: %{y}<br>%{z:.1f}%<extra></extra>",
         "text": [
          [
           "asian<br>0.0% (0)",
           "asian<br>2.8% (36)",
           "asian<br>3.6% (7)"
          ],
          [
           "black<br>50.0% (3)",
           "black<br>11.9% (155)",
           "black<br>8.9% (17)"
          ],
          [
           "chinese<br>16.7% (1)",
           "chinese<br>29.5% (385)",
           "chinese<br>46.4% (89)"
          ],
          [
           "indian<br>0.0% (0)",
           "indian<br>10.3% (134)",
           "indian<br>20.3% (39)"
          ],
          [
           "korean_chinese<br>33.3% (2)",
           "korean_chinese<br>33.1% (431)",
           "korean_chinese<br>14.1% (27)"
          ],
          [
           "southeast_asian<br>0.0% (0)",
           "southeast_asian<br>5.7% (74)",
           "southeast_asian<br>3.6% (7)"
          ],
          [
           "white<br>0.0% (0)",
           "white<br>6.8% (89)",
           "white<br>3.1% (6)"
          ]
         ],
         "texttemplate": "%{text}",
         "type": "heatmap",
         "x": [
          "2020",
          "2021",
          "2022"
         ],
         "y": [
          "asian",
          "black",
          "chinese",
          "indian",
          "korean_chinese",
          "southeast_asian",
          "white"
         ],
         "z": {
          "bdata": "AAAAAAAAAADGluDb/BUGQKuqqqqqKg1AAAAAAAAASUD1TOW648UnQFZVVVVVtSFAqqqqqqqqMEA5dNI+SIY9QFZVVVVVLUdAAAAAAAAAAAD4Nn+FWY0kQAAAAAAAUDRAqqqqqqqqQEB8m7/CrIZAQAAAAAAAICxAAAAAAAAAAABL8G3+CrMWQKuqqqqqKg1AAAAAAAAAAAC0D5IB9UwbQAAAAAAAAAlA",
          "dtype": "f8",
          "shape": "7, 3"
         }
        }
       ],
       "layout": {
        "template": {
         "data": {
          "bar": [
           {
            "error_x": {
             "color": "#2a3f5f"
            },
            "error_y": {
             "color": "#2a3f5f"
            },
            "marker": {
             "line": {
              "color": "#E5ECF6",
              "width": 0.5
             },
             "pattern": {
              "fillmode": "overlay",
              "size": 10,
              "solidity": 0.2
             }
            },
            "type": "bar"
           }
          ],
          "barpolar": [
           {
            "marker": {
             "line": {
              "color": "#E5ECF6",
              "width": 0.5
             },
             "pattern": {
              "fillmode": "overlay",
              "size": 10,
              "solidity": 0.2
             }
            },
            "type": "barpolar"
           }
          ],
          "carpet": [
           {
            "aaxis": {
             "endlinecolor": "#2a3f5f",
             "gridcolor": "white",
             "linecolor": "white",
             "minorgridcolor": "white",
             "startlinecolor": "#2a3f5f"
            },
            "baxis": {
             "endlinecolor": "#2a3f5f",
             "gridcolor": "white",
             "linecolor": "white",
             "minorgridcolor": "white",
             "startlinecolor": "#2a3f5f"
            },
            "type": "carpet"
           }
          ],
          "choropleth": [
           {
            "colorbar": {
             "outlinewidth": 0,
             "ticks": ""
            },
            "type": "choropleth"
           }
          ],
          "contour": [
           {
            "colorbar": {
             "outlinewidth": 0,
             "ticks": ""
            },
            "colorscale": [
             [
              0,
              "#0d0887"
             ],
             [
              0.1111111111111111,
              "#46039f"
             ],
             [
              0.2222222222222222,
              "#7201a8"
             ],
             [
              0.3333333333333333,
              "#9c179e"
             ],
             [
              0.4444444444444444,
              "#bd3786"
             ],
             [
              0.5555555555555556,
              "#d8576b"
             ],
             [
              0.6666666666666666,
              "#ed7953"
             ],
             [
              0.7777777777777778,
              "#fb9f3a"
             ],
             [
              0.8888888888888888,
              "#fdca26"
             ],
             [
              1,
              "#f0f921"
             ]
            ],
            "type": "contour"
           }
          ],
          "contourcarpet": [
           {
            "colorbar": {
             "outlinewidth": 0,
             "ticks": ""
            },
            "type": "contourcarpet"
           }
          ],
          "heatmap": [
           {
            "colorbar": {
             "outlinewidth": 0,
             "ticks": ""
            },
            "colorscale": [
             [
              0,
              "#0d0887"
             ],
             [
              0.1111111111111111,
              "#46039f"
             ],
             [
              0.2222222222222222,
              "#7201a8"
             ],
             [
              0.3333333333333333,
              "#9c179e"
             ],
             [
              0.4444444444444444,
              "#bd3786"
             ],
             [
              0.5555555555555556,
              "#d8576b"
             ],
             [
              0.6666666666666666,
              "#ed7953"
             ],
             [
              0.7777777777777778,
              "#fb9f3a"
             ],
             [
              0.8888888888888888,
              "#fdca26"
             ],
             [
              1,
              "#f0f921"
             ]
            ],
            "type": "heatmap"
           }
          ],
          "histogram": [
           {
            "marker": {
             "pattern": {
              "fillmode": "overlay",
              "size": 10,
              "solidity": 0.2
             }
            },
            "type": "histogram"
           }
          ],
          "histogram2d": [
           {
            "colorbar": {
             "outlinewidth": 0,
             "ticks": ""
            },
            "colorscale": [
             [
              0,
              "#0d0887"
             ],
             [
              0.1111111111111111,
              "#46039f"
             ],
             [
              0.2222222222222222,
              "#7201a8"
             ],
             [
              0.3333333333333333,
              "#9c179e"
             ],
             [
              0.4444444444444444,
              "#bd3786"
             ],
             [
              0.5555555555555556,
              "#d8576b"
             ],
             [
              0.6666666666666666,
              "#ed7953"
             ],
             [
              0.7777777777777778,
              "#fb9f3a"
             ],
             [
              0.8888888888888888,
              "#fdca26"
             ],
             [
              1,
              "#f0f921"
             ]
            ],
            "type": "histogram2d"
           }
          ],
          "histogram2dcontour": [
           {
            "colorbar": {
             "outlinewidth": 0,
             "ticks": ""
            },
            "colorscale": [
             [
              0,
              "#0d0887"
             ],
             [
              0.1111111111111111,
              "#46039f"
             ],
             [
              0.2222222222222222,
              "#7201a8"
             ],
             [
              0.3333333333333333,
              "#9c179e"
             ],
             [
              0.4444444444444444,
              "#bd3786"
             ],
             [
              0.5555555555555556,
              "#d8576b"
             ],
             [
              0.6666666666666666,
              "#ed7953"
             ],
             [
              0.7777777777777778,
              "#fb9f3a"
             ],
             [
              0.8888888888888888,
              "#fdca26"
             ],
             [
              1,
              "#f0f921"
             ]
            ],
            "type": "histogram2dcontour"
           }
          ],
          "mesh3d": [
           {
            "colorbar": {
             "outlinewidth": 0,
             "ticks": ""
            },
            "type": "mesh3d"
           }
          ],
          "parcoords": [
           {
            "line": {
             "colorbar": {
              "outlinewidth": 0,
              "ticks": ""
             }
            },
            "type": "parcoords"
           }
          ],
          "pie": [
           {
            "automargin": true,
            "type": "pie"
           }
          ],
          "scatter": [
           {
            "fillpattern": {
             "fillmode": "overlay",
             "size": 10,
             "solidity": 0.2
            },
            "type": "scatter"
           }
          ],
          "scatter3d": [
           {
            "line": {
             "colorbar": {
              "outlinewidth": 0,
              "ticks": ""
             }
            },
            "marker": {
             "colorbar": {
              "outlinewidth": 0,
              "ticks": ""
             }
            },
            "type": "scatter3d"
           }
          ],
          "scattercarpet": [
           {
            "marker": {
             "colorbar": {
              "outlinewidth": 0,
              "ticks": ""
             }
            },
            "type": "scattercarpet"
           }
          ],
          "scattergeo": [
           {
            "marker": {
             "colorbar": {
              "outlinewidth": 0,
              "ticks": ""
             }
            },
            "type": "scattergeo"
           }
          ],
          "scattergl": [
           {
            "marker": {
             "colorbar": {
              "outlinewidth": 0,
              "ticks": ""
             }
            },
            "type": "scattergl"
           }
          ],
          "scattermap": [
           {
            "marker": {
             "colorbar": {
              "outlinewidth": 0,
              "ticks": ""
             }
            },
            "type": "scattermap"
           }
          ],
          "scattermapbox": [
           {
            "marker": {
             "colorbar": {
              "outlinewidth": 0,
              "ticks": ""
             }
            },
            "type": "scattermapbox"
           }
          ],
          "scatterpolar": [
           {
            "marker": {
             "colorbar": {
              "outlinewidth": 0,
              "ticks": ""
             }
            },
            "type": "scatterpolar"
           }
          ],
          "scatterpolargl": [
           {
            "marker": {
             "colorbar": {
              "outlinewidth": 0,
              "ticks": ""
             }
            },
            "type": "scatterpolargl"
           }
          ],
          "scatterternary": [
           {
            "marker": {
             "colorbar": {
              "outlinewidth": 0,
              "ticks": ""
             }
            },
            "type": "scatterternary"
           }
          ],
          "surface": [
           {
            "colorbar": {
             "outlinewidth": 0,
             "ticks": ""
            },
            "colorscale": [
             [
              0,
              "#0d0887"
             ],
             [
              0.1111111111111111,
              "#46039f"
             ],
             [
              0.2222222222222222,
              "#7201a8"
             ],
             [
              0.3333333333333333,
              "#9c179e"
             ],
             [
              0.4444444444444444,
              "#bd3786"
             ],
             [
              0.5555555555555556,
              "#d8576b"
             ],
             [
              0.6666666666666666,
              "#ed7953"
             ],
             [
              0.7777777777777778,
              "#fb9f3a"
             ],
             [
              0.8888888888888888,
              "#fdca26"
             ],
             [
              1,
              "#f0f921"
             ]
            ],
            "type": "surface"
           }
          ],
          "table": [
           {
            "cells": {
             "fill": {
              "color": "#EBF0F8"
             },
             "line": {
              "color": "white"
             }
            },
            "header": {
             "fill": {
              "color": "#C8D4E3"
             },
             "line": {
              "color": "white"
             }
            },
            "type": "table"
           }
          ]
         },
         "layout": {
          "annotationdefaults": {
           "arrowcolor": "#2a3f5f",
           "arrowhead": 0,
           "arrowwidth": 1
          },
          "autotypenumbers": "strict",
          "coloraxis": {
           "colorbar": {
            "outlinewidth": 0,
            "ticks": ""
           }
          },
          "colorscale": {
           "diverging": [
            [
             0,
             "#8e0152"
            ],
            [
             0.1,
             "#c51b7d"
            ],
            [
             0.2,
             "#de77ae"
            ],
            [
             0.3,
             "#f1b6da"
            ],
            [
             0.4,
             "#fde0ef"
            ],
            [
             0.5,
             "#f7f7f7"
            ],
            [
             0.6,
             "#e6f5d0"
            ],
            [
             0.7,
             "#b8e186"
            ],
            [
             0.8,
             "#7fbc41"
            ],
            [
             0.9,
             "#4d9221"
            ],
            [
             1,
             "#276419"
            ]
           ],
           "sequential": [
            [
             0,
             "#0d0887"
            ],
            [
             0.1111111111111111,
             "#46039f"
            ],
            [
             0.2222222222222222,
             "#7201a8"
            ],
            [
             0.3333333333333333,
             "#9c179e"
            ],
            [
             0.4444444444444444,
             "#bd3786"
            ],
            [
             0.5555555555555556,
             "#d8576b"
            ],
            [
             0.6666666666666666,
             "#ed7953"
            ],
            [
             0.7777777777777778,
             "#fb9f3a"
            ],
            [
             0.8888888888888888,
             "#fdca26"
            ],
            [
             1,
             "#f0f921"
            ]
           ],
           "sequentialminus": [
            [
             0,
             "#0d0887"
            ],
            [
             0.1111111111111111,
             "#46039f"
            ],
            [
             0.2222222222222222,
             "#7201a8"
            ],
            [
             0.3333333333333333,
             "#9c179e"
            ],
            [
             0.4444444444444444,
             "#bd3786"
            ],
            [
             0.5555555555555556,
             "#d8576b"
            ],
            [
             0.6666666666666666,
             "#ed7953"
            ],
            [
             0.7777777777777778,
             "#fb9f3a"
            ],
            [
             0.8888888888888888,
             "#fdca26"
            ],
            [
             1,
             "#f0f921"
            ]
           ]
          },
          "colorway": [
           "#636efa",
           "#EF553B",
           "#00cc96",
           "#ab63fa",
           "#FFA15A",
           "#19d3f3",
           "#FF6692",
           "#B6E880",
           "#FF97FF",
           "#FECB52"
          ],
          "font": {
           "color": "#2a3f5f"
          },
          "geo": {
           "bgcolor": "white",
           "lakecolor": "white",
           "landcolor": "#E5ECF6",
           "showlakes": true,
           "showland": true,
           "subunitcolor": "white"
          },
          "hoverlabel": {
           "align": "left"
          },
          "hovermode": "closest",
          "mapbox": {
           "style": "light"
          },
          "paper_bgcolor": "white",
          "plot_bgcolor": "#E5ECF6",
          "polar": {
           "angularaxis": {
            "gridcolor": "white",
            "linecolor": "white",
            "ticks": ""
           },
           "bgcolor": "#E5ECF6",
           "radialaxis": {
            "gridcolor": "white",
            "linecolor": "white",
            "ticks": ""
           }
          },
          "scene": {
           "xaxis": {
            "backgroundcolor": "#E5ECF6",
            "gridcolor": "white",
            "gridwidth": 2,
            "linecolor": "white",
            "showbackground": true,
            "ticks": "",
            "zerolinecolor": "white"
           },
           "yaxis": {
            "backgroundcolor": "#E5ECF6",
            "gridcolor": "white",
            "gridwidth": 2,
            "linecolor": "white",
            "showbackground": true,
            "ticks": "",
            "zerolinecolor": "white"
           },
           "zaxis": {
            "backgroundcolor": "#E5ECF6",
            "gridcolor": "white",
            "gridwidth": 2,
            "linecolor": "white",
            "showbackground": true,
            "ticks": "",
            "zerolinecolor": "white"
           }
          },
          "shapedefaults": {
           "line": {
            "color": "#2a3f5f"
           }
          },
          "ternary": {
           "aaxis": {
            "gridcolor": "white",
            "linecolor": "white",
            "ticks": ""
           },
           "baxis": {
            "gridcolor": "white",
            "linecolor": "white",
            "ticks": ""
           },
           "bgcolor": "#E5ECF6",
           "caxis": {
            "gridcolor": "white",
            "linecolor": "white",
            "ticks": ""
           }
          },
          "title": {
           "x": 0.05
          },
          "xaxis": {
           "automargin": true,
           "gridcolor": "white",
           "linecolor": "white",
           "ticks": "",
           "title": {
            "standoff": 15
           },
           "zerolinecolor": "white",
           "zerolinewidth": 2
          },
          "yaxis": {
           "automargin": true,
           "gridcolor": "white",
           "linecolor": "white",
           "ticks": "",
           "title": {
            "standoff": 15
           },
           "zerolinecolor": "white",
           "zerolinewidth": 2
          }
         }
        },
        "title": {
         "text": "Percentage of Offensive Comments by Race per Year",
         "x": 0.5
        },
        "uniformtext": {
         "minsize": 8,
         "mode": "hide"
        },
        "xaxis": {
         "title": {
          "text": "Year"
         }
        },
        "yaxis": {
         "title": {
          "text": "Race"
         }
        }
       }
      }
     },
     "metadata": {},
     "output_type": "display_data"
    }
   ],
   "source": [
    "# pandas 관련 import\n",
    "import pandas as pd\n",
    "\n",
    "# plotly 관련 import\n",
    "import plotly.graph_objects as go # 커스터마이징 가능한 시각화 객체 제공\n",
    "\n",
    "# 데이터프레임 로딩 관련 import \n",
    "from module.df.data_loader import get_race_year_df  # 인종-연도별 집계 데이터 로딩 \n",
    "\n",
    "# 인종-연도별 집계 데이터프레임 로딩\n",
    "df = get_race_year_df()\n",
    "\n",
    "# count 값을 실수형(float)으로 변환 (정확한 비율 계산을 위함)\n",
    "df[\"count\"] = df[\"count\"].astype(float)\n",
    "\n",
    "# 연도별 전체 댓글 수 대비 비율(%)을 계산하여 'percentage' 열에 저장\n",
    "df[\"percentage\"] = df.groupby(\"year\")[\"count\"].transform(lambda x: x / x.sum() * 100)\n",
    "\n",
    "# 히트맵 시각화를 위한 비율(percentage) 피벗 테이블 생성 (행: 인종, 열: 연도, 값: 비율)\n",
    "z = df.pivot(index=\"race\", columns=\"year\", values=\"percentage\").fillna(0)\n",
    "\n",
    "# 라벨 텍스트 출력을 위한 count 피벗 테이블 생성 (행: 인종, 열: 연도, 값: 댓글 수)\n",
    "counts = df.pivot(index=\"race\", columns=\"year\", values=\"count\").fillna(0)\n",
    "\n",
    "# 텍스트 라벨을 저장할 빈 DataFrame 생성 (x와 동일한 인덱스/컬럼 구조)\n",
    "text = pd.DataFrame(index=z.index, columns=z.columns)\n",
    "\n",
    "# 각 셀마다 race, percentage, count 정보를 조합해 텍스트 레이블 생성\n",
    "for row in z.index:\n",
    "    for col in z.columns:\n",
    "        pct = z.loc[row, col] # 비율 값\n",
    "        cnt = counts.loc[row, col] # 댓글 수\n",
    "        # 예: \"asian<br>32.1% (45)\"\n",
    "        text.loc[row, col] = f\"{row}<br>{pct:.1f}% ({int(cnt)})\"\n",
    "\n",
    "# 히트맵 시각화 생성\n",
    "fig = go.Figure(\n",
    "    data=go.Heatmap(\n",
    "        z=z.values, # 색상에 대응되는 값 (비율 %)\n",
    "        x=z.columns, # x축 항목: 연도\n",
    "        y=z.index, # y축 항목: 인종\n",
    "        text=text.values, # 각 셀에 표시할 텍스트 (race + 비율 + 개수)\n",
    "        texttemplate=\"%{text}\", # text 값을 그대로 셀에 출력\n",
    "        colorscale=\"YlOrRd\", # 색상 스케일 설정 (밝은 노랑 → 짙은 빨강)\n",
    "        hovertemplate=\"Year: %{x}<br>Race: %{y}<br>%{z:.1f}%<extra></extra>\" # 마우스 오버 시 표시될 정보\n",
    "    )\n",
    ")\n",
    "\n",
    "# 레이아웃 설정\n",
    "fig.update_layout(\n",
    "    title=\"Percentage of Offensive Comments by Race per Year\", # 그래프 제목 설정\n",
    "    xaxis_title=\"Year\", # x축 제목: 연도\n",
    "    yaxis_title=\"Race\", # y축 제목: 인종\n",
    "    title_x=0.5, # 제목을 수평 중앙 정렬\n",
    "    uniformtext_minsize=8, # 텍스트 최소 크기 설정\n",
    "    uniformtext_mode='hide' # 텍스트가 너무 작으면 숨김 처리\n",
    ")\n",
    "\n",
    "# 그래프 출력\n",
    "fig.show()"
   ]
  },
  {
   "cell_type": "code",
   "execution_count": 5,
   "id": "af952fd1-ea9d-465b-baef-4970b0a5be1a",
   "metadata": {},
   "outputs": [
    {
     "ename": "ValueError",
     "evalue": "Value of 'color' is not the name of a column in 'data_frame'. Expected one of ['category', 'subgroup', 'count'] but received: offensive_score",
     "output_type": "error",
     "traceback": [
      "\u001b[31m---------------------------------------------------------------------------\u001b[39m",
      "\u001b[31mValueError\u001b[39m                                Traceback (most recent call last)",
      "\u001b[36mCell\u001b[39m\u001b[36m \u001b[39m\u001b[32mIn[5]\u001b[39m\u001b[32m, line 35\u001b[39m\n\u001b[32m     32\u001b[39m df = df.value_counts().reset_index(name=\u001b[33m'\u001b[39m\u001b[33mcount\u001b[39m\u001b[33m'\u001b[39m)\n\u001b[32m     34\u001b[39m \u001b[38;5;66;03m# 트리맵 시각화\u001b[39;00m\n\u001b[32m---> \u001b[39m\u001b[32m35\u001b[39m fig = \u001b[43mpx\u001b[49m\u001b[43m.\u001b[49m\u001b[43mtreemap\u001b[49m\u001b[43m(\u001b[49m\n\u001b[32m     36\u001b[39m \u001b[43m    \u001b[49m\u001b[43mdf\u001b[49m\u001b[43m,\u001b[49m\n\u001b[32m     37\u001b[39m \u001b[43m    \u001b[49m\u001b[43mpath\u001b[49m\u001b[43m=\u001b[49m\u001b[43m[\u001b[49m\u001b[33;43m'\u001b[39;49m\u001b[33;43mcategory\u001b[39;49m\u001b[33;43m'\u001b[39;49m\u001b[43m,\u001b[49m\u001b[43m \u001b[49m\u001b[33;43m'\u001b[39;49m\u001b[33;43msubgroup\u001b[39;49m\u001b[33;43m'\u001b[39;49m\u001b[43m]\u001b[49m\u001b[43m,\u001b[49m\n\u001b[32m     38\u001b[39m \u001b[43m    \u001b[49m\u001b[43mvalues\u001b[49m\u001b[43m=\u001b[49m\u001b[33;43m'\u001b[39;49m\u001b[33;43mcount\u001b[39;49m\u001b[33;43m'\u001b[39;49m\u001b[43m,\u001b[49m\n\u001b[32m     39\u001b[39m \u001b[43m    \u001b[49m\u001b[43mcolor\u001b[49m\u001b[43m=\u001b[49m\u001b[33;43m'\u001b[39;49m\u001b[33;43moffensive_score\u001b[39;49m\u001b[33;43m'\u001b[39;49m\u001b[43m,\u001b[49m\n\u001b[32m     40\u001b[39m \u001b[43m    \u001b[49m\u001b[43mcolor_continuous_scale\u001b[49m\u001b[43m=\u001b[49m\u001b[33;43m'\u001b[39;49m\u001b[33;43mViridis\u001b[39;49m\u001b[33;43m'\u001b[39;49m\u001b[43m,\u001b[49m\n\u001b[32m     41\u001b[39m \u001b[43m    \u001b[49m\u001b[43mtitle\u001b[49m\u001b[43m=\u001b[49m\u001b[33;43m'\u001b[39;49m\u001b[33;43mTarget Group Treemap\u001b[39;49m\u001b[33;43m'\u001b[39;49m\u001b[43m,\u001b[49m\n\u001b[32m     42\u001b[39m \u001b[43m    \u001b[49m\u001b[43mhover_data\u001b[49m\u001b[43m=\u001b[49m\u001b[43m[\u001b[49m\u001b[33;43m'\u001b[39;49m\u001b[33;43mcount\u001b[39;49m\u001b[33;43m'\u001b[39;49m\u001b[43m]\u001b[49m\n\u001b[32m     43\u001b[39m \u001b[43m)\u001b[49m\n\u001b[32m     45\u001b[39m fig.update_traces(\n\u001b[32m     46\u001b[39m     tiling=\u001b[38;5;28mdict\u001b[39m(packing=\u001b[33m\"\u001b[39m\u001b[33msquarify\u001b[39m\u001b[33m\"\u001b[39m),\n\u001b[32m     47\u001b[39m     textinfo=\u001b[33m\"\u001b[39m\u001b[33mlabel+value\u001b[39m\u001b[33m\"\u001b[39m\n\u001b[32m     48\u001b[39m )\n\u001b[32m     50\u001b[39m \u001b[38;5;66;03m# ✅ 높이 크게 지정해서 가로길이와 균형 맞추기\u001b[39;00m\n",
      "\u001b[36mFile \u001b[39m\u001b[32m~\\AppData\\Local\\Packages\\PythonSoftwareFoundation.Python.3.11_qbz5n2kfra8p0\\LocalCache\\local-packages\\Python311\\site-packages\\plotly\\express\\_chart_types.py:1812\u001b[39m, in \u001b[36mtreemap\u001b[39m\u001b[34m(data_frame, names, values, parents, ids, path, color, color_continuous_scale, range_color, color_continuous_midpoint, color_discrete_sequence, color_discrete_map, hover_name, hover_data, custom_data, labels, title, subtitle, template, width, height, branchvalues, maxdepth)\u001b[39m\n\u001b[32m   1810\u001b[39m \u001b[38;5;28;01mif\u001b[39;00m path \u001b[38;5;129;01mis\u001b[39;00m \u001b[38;5;129;01mnot\u001b[39;00m \u001b[38;5;28;01mNone\u001b[39;00m \u001b[38;5;129;01mand\u001b[39;00m branchvalues \u001b[38;5;129;01mis\u001b[39;00m \u001b[38;5;28;01mNone\u001b[39;00m:\n\u001b[32m   1811\u001b[39m     branchvalues = \u001b[33m\"\u001b[39m\u001b[33mtotal\u001b[39m\u001b[33m\"\u001b[39m\n\u001b[32m-> \u001b[39m\u001b[32m1812\u001b[39m \u001b[38;5;28;01mreturn\u001b[39;00m \u001b[43mmake_figure\u001b[49m\u001b[43m(\u001b[49m\n\u001b[32m   1813\u001b[39m \u001b[43m    \u001b[49m\u001b[43margs\u001b[49m\u001b[43m=\u001b[49m\u001b[38;5;28;43mlocals\u001b[39;49m\u001b[43m(\u001b[49m\u001b[43m)\u001b[49m\u001b[43m,\u001b[49m\n\u001b[32m   1814\u001b[39m \u001b[43m    \u001b[49m\u001b[43mconstructor\u001b[49m\u001b[43m=\u001b[49m\u001b[43mgo\u001b[49m\u001b[43m.\u001b[49m\u001b[43mTreemap\u001b[49m\u001b[43m,\u001b[49m\n\u001b[32m   1815\u001b[39m \u001b[43m    \u001b[49m\u001b[43mtrace_patch\u001b[49m\u001b[43m=\u001b[49m\u001b[38;5;28;43mdict\u001b[39;49m\u001b[43m(\u001b[49m\u001b[43mbranchvalues\u001b[49m\u001b[43m=\u001b[49m\u001b[43mbranchvalues\u001b[49m\u001b[43m,\u001b[49m\u001b[43m \u001b[49m\u001b[43mmaxdepth\u001b[49m\u001b[43m=\u001b[49m\u001b[43mmaxdepth\u001b[49m\u001b[43m)\u001b[49m\u001b[43m,\u001b[49m\n\u001b[32m   1816\u001b[39m \u001b[43m    \u001b[49m\u001b[43mlayout_patch\u001b[49m\u001b[43m=\u001b[49m\u001b[43mlayout_patch\u001b[49m\u001b[43m,\u001b[49m\n\u001b[32m   1817\u001b[39m \u001b[43m\u001b[49m\u001b[43m)\u001b[49m\n",
      "\u001b[36mFile \u001b[39m\u001b[32m~\\AppData\\Local\\Packages\\PythonSoftwareFoundation.Python.3.11_qbz5n2kfra8p0\\LocalCache\\local-packages\\Python311\\site-packages\\plotly\\express\\_core.py:2479\u001b[39m, in \u001b[36mmake_figure\u001b[39m\u001b[34m(args, constructor, trace_patch, layout_patch)\u001b[39m\n\u001b[32m   2476\u001b[39m layout_patch = layout_patch \u001b[38;5;129;01mor\u001b[39;00m {}\n\u001b[32m   2477\u001b[39m apply_default_cascade(args)\n\u001b[32m-> \u001b[39m\u001b[32m2479\u001b[39m args = \u001b[43mbuild_dataframe\u001b[49m\u001b[43m(\u001b[49m\u001b[43margs\u001b[49m\u001b[43m,\u001b[49m\u001b[43m \u001b[49m\u001b[43mconstructor\u001b[49m\u001b[43m)\u001b[49m\n\u001b[32m   2480\u001b[39m \u001b[38;5;28;01mif\u001b[39;00m constructor \u001b[38;5;129;01min\u001b[39;00m [go.Treemap, go.Sunburst, go.Icicle] \u001b[38;5;129;01mand\u001b[39;00m args[\u001b[33m\"\u001b[39m\u001b[33mpath\u001b[39m\u001b[33m\"\u001b[39m] \u001b[38;5;129;01mis\u001b[39;00m \u001b[38;5;129;01mnot\u001b[39;00m \u001b[38;5;28;01mNone\u001b[39;00m:\n\u001b[32m   2481\u001b[39m     args = process_dataframe_hierarchy(args)\n",
      "\u001b[36mFile \u001b[39m\u001b[32m~\\AppData\\Local\\Packages\\PythonSoftwareFoundation.Python.3.11_qbz5n2kfra8p0\\LocalCache\\local-packages\\Python311\\site-packages\\plotly\\express\\_core.py:1727\u001b[39m, in \u001b[36mbuild_dataframe\u001b[39m\u001b[34m(args, constructor)\u001b[39m\n\u001b[32m   1724\u001b[39m     args[\u001b[33m\"\u001b[39m\u001b[33mcolor\u001b[39m\u001b[33m\"\u001b[39m] = \u001b[38;5;28;01mNone\u001b[39;00m\n\u001b[32m   1725\u001b[39m \u001b[38;5;66;03m# now that things have been prepped, we do the systematic rewriting of `args`\u001b[39;00m\n\u001b[32m-> \u001b[39m\u001b[32m1727\u001b[39m df_output, wide_id_vars = \u001b[43mprocess_args_into_dataframe\u001b[49m\u001b[43m(\u001b[49m\n\u001b[32m   1728\u001b[39m \u001b[43m    \u001b[49m\u001b[43margs\u001b[49m\u001b[43m,\u001b[49m\n\u001b[32m   1729\u001b[39m \u001b[43m    \u001b[49m\u001b[43mwide_mode\u001b[49m\u001b[43m,\u001b[49m\n\u001b[32m   1730\u001b[39m \u001b[43m    \u001b[49m\u001b[43mvar_name\u001b[49m\u001b[43m,\u001b[49m\n\u001b[32m   1731\u001b[39m \u001b[43m    \u001b[49m\u001b[43mvalue_name\u001b[49m\u001b[43m,\u001b[49m\n\u001b[32m   1732\u001b[39m \u001b[43m    \u001b[49m\u001b[43mis_pd_like\u001b[49m\u001b[43m,\u001b[49m\n\u001b[32m   1733\u001b[39m \u001b[43m    \u001b[49m\u001b[43mnative_namespace\u001b[49m\u001b[43m,\u001b[49m\n\u001b[32m   1734\u001b[39m \u001b[43m\u001b[49m\u001b[43m)\u001b[49m\n\u001b[32m   1735\u001b[39m df_output: nw.DataFrame\n\u001b[32m   1736\u001b[39m \u001b[38;5;66;03m# now that `df_output` exists and `args` contains only references, we complete\u001b[39;00m\n\u001b[32m   1737\u001b[39m \u001b[38;5;66;03m# the special-case and wide-mode handling by further rewriting args and/or mutating\u001b[39;00m\n\u001b[32m   1738\u001b[39m \u001b[38;5;66;03m# df_output\u001b[39;00m\n",
      "\u001b[36mFile \u001b[39m\u001b[32m~\\AppData\\Local\\Packages\\PythonSoftwareFoundation.Python.3.11_qbz5n2kfra8p0\\LocalCache\\local-packages\\Python311\\site-packages\\plotly\\express\\_core.py:1328\u001b[39m, in \u001b[36mprocess_args_into_dataframe\u001b[39m\u001b[34m(args, wide_mode, var_name, value_name, is_pd_like, native_namespace)\u001b[39m\n\u001b[32m   1326\u001b[39m         \u001b[38;5;28;01mif\u001b[39;00m argument == \u001b[33m\"\u001b[39m\u001b[33mindex\u001b[39m\u001b[33m\"\u001b[39m:\n\u001b[32m   1327\u001b[39m             err_msg += \u001b[33m\"\u001b[39m\u001b[38;5;130;01m\\n\u001b[39;00m\u001b[33m To use the index, pass it in directly as `df.index`.\u001b[39m\u001b[33m\"\u001b[39m\n\u001b[32m-> \u001b[39m\u001b[32m1328\u001b[39m         \u001b[38;5;28;01mraise\u001b[39;00m \u001b[38;5;167;01mValueError\u001b[39;00m(err_msg)\n\u001b[32m   1329\u001b[39m \u001b[38;5;28;01melif\u001b[39;00m length \u001b[38;5;129;01mand\u001b[39;00m (actual_len := \u001b[38;5;28mlen\u001b[39m(df_input)) != length:\n\u001b[32m   1330\u001b[39m     \u001b[38;5;28;01mraise\u001b[39;00m \u001b[38;5;167;01mValueError\u001b[39;00m(\n\u001b[32m   1331\u001b[39m         \u001b[33m\"\u001b[39m\u001b[33mAll arguments should have the same length. \u001b[39m\u001b[33m\"\u001b[39m\n\u001b[32m   1332\u001b[39m         \u001b[33m\"\u001b[39m\u001b[33mThe length of column argument `df[\u001b[39m\u001b[38;5;132;01m%s\u001b[39;00m\u001b[33m]` is \u001b[39m\u001b[38;5;132;01m%d\u001b[39;00m\u001b[33m, whereas the \u001b[39m\u001b[33m\"\u001b[39m\n\u001b[32m   (...)\u001b[39m\u001b[32m   1339\u001b[39m         )\n\u001b[32m   1340\u001b[39m     )\n",
      "\u001b[31mValueError\u001b[39m: Value of 'color' is not the name of a column in 'data_frame'. Expected one of ['category', 'subgroup', 'count'] but received: offensive_score"
     ]
    }
   ],
   "source": [
    "from collections import Counter\n",
    "import pandas as pd\n",
    "import plotly.express as px\n",
    "import re\n",
    "from module.db.db_connection import get_collection\n",
    "\n",
    "collection = get_collection()\n",
    "\n",
    "# GRP 필드 추출\n",
    "target_groups = []\n",
    "for doc in collection.find({}, {\"GRP\": 1}):\n",
    "    tg = doc.get(\"GRP\", None)\n",
    "    if isinstance(tg, str):\n",
    "        target_groups.append(tg)\n",
    "\n",
    "# 정규표현식으로 분리\n",
    "pattern = re.compile(r\"^(gender|race|politics|religion|others)[-_](.+)$\", re.IGNORECASE)\n",
    "data = []\n",
    "\n",
    "for tg in target_groups:\n",
    "    match = pattern.match(tg)\n",
    "    if match:\n",
    "        category = match.group(1)\n",
    "        subgroup = match.group(2)\n",
    "    else:\n",
    "        category = \"others\"\n",
    "        subgroup = tg\n",
    "    data.append((category, subgroup))\n",
    "\n",
    "# 카운트\n",
    "df = pd.DataFrame(data, columns=['category', 'subgroup'])\n",
    "df = df.value_counts().reset_index(name='count')\n",
    "\n",
    "# 트리맵 시각화\n",
    "fig = px.treemap(\n",
    "    df,\n",
    "    path=['category', 'subgroup'],\n",
    "    values='count',\n",
    "    color='offensive_score',\n",
    "    color_continuous_scale='Viridis',\n",
    "    title='Target Group Treemap',\n",
    "    hover_data=['count']\n",
    ")\n",
    "\n",
    "fig.update_traces(\n",
    "    tiling=dict(packing=\"squarify\"),\n",
    "    textinfo=\"label+value\"\n",
    ")\n",
    "\n",
    "# ✅ 높이 크게 지정해서 가로길이와 균형 맞추기\n",
    "fig.update_layout(\n",
    "    width=800,\n",
    "    height=800,  # 핵심: 이 높이를 늘리면 가로로 퍼지는 현상 완화됨\n",
    "    margin=dict(t=60, l=20, r=20, b=20),\n",
    "    uniformtext=dict(minsize=10, mode='hide'),\n",
    "    title_font_size=20\n",
    ")\n",
    "\n",
    "fig.show()\n"
   ]
  },
  {
   "cell_type": "code",
   "execution_count": 6,
   "id": "4f72f1a2-6480-4415-a162-c3775f52bad7",
   "metadata": {},
   "outputs": [
    {
     "data": {
      "application/vnd.plotly.v1+json": {
       "config": {
        "plotlyServerURL": "https://plot.ly"
       },
       "data": [
        {
         "branchvalues": "total",
         "customdata": {
          "bdata": "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",
          "dtype": "f8",
          "shape": "101, 2"
         },
         "domain": {
          "x": [
           0,
           1
          ],
          "y": [
           0,
           1
          ]
         },
         "hovertemplate": "labels=%{label}<br>count=%{customdata[0]}<br>parent=%{parent}<br>id=%{id}<br>offensive_score=%{color}<extra></extra>",
         "ids": [
          "gender/LGBTQ+",
          "gender/female",
          "gender/female & gender-queer",
          "gender/female & race-black",
          "gender/female & race-southeast_asian",
          "gender/female & religion-christian",
          "gender/feminist & gender-female",
          "gender/feminist & gender-male",
          "gender/feminist & gender-male & gender-female",
          "gender/feminist & gender-queer",
          "gender/feminist & politics-conservative",
          "gender/feminist & politics-progressive",
          "gender/feminist & race-chinese",
          "gender/feminist & race-chinese & gender-female",
          "gender/feminist & race-korean_chinese",
          "gender/feminist & sexual_orientation-homosexual",
          "gender/feminist & sexual_orientation-homosexual & gender-queer",
          "gender/feminist & sexual_orientation-homosexual & religion-islam",
          "gender/male",
          "gender/male & gender-female",
          "gender/male & gender-female & gender-queer",
          "gender/male & gender-queer",
          "gender/male & politics-conservative",
          "gender/male & race-southeast_asian",
          "gender/male & race-white",
          "gender/male & religion-christian",
          "gender/male & religion-islam",
          "gender/others",
          "gender/others & sexual_orientation-others",
          "others/age",
          "others/age & others-socioeconomic_status",
          "others/disability",
          "others/disease",
          "others/feminist",
          "others/others",
          "others/physical_appearance",
          "others/sexual_orientation-homosexual & gender-female",
          "others/sexual_orientation-homosexual & gender-male",
          "others/sexual_orientation-homosexual & gender-queer",
          "others/sexual_orientation-homosexual & politics-progressive",
          "others/sexual_orientation-homosexual & religion-islam",
          "others/socioeconomic_status",
          "politics/conservative",
          "politics/others",
          "politics/others & gender-others",
          "politics/others & others-age",
          "politics/others & others-socioeconomic_status",
          "politics/others & politics-progressive",
          "politics/others & politics-progressive & politics-conservative",
          "politics/others & race-others",
          "politics/progressive",
          "politics/progressive & gender-female",
          "politics/progressive & politics-conservative",
          "politics/progressive & race-chinese",
          "politics/progressive & race-chinese & race-korean_chinese",
          "politics/progressive & race-korean_chinese",
          "politics/progressive & religion-christian",
          "race/asian",
          "race/asian & gender-female",
          "race/asian & gender-male",
          "race/asian & race-black",
          "race/asian & religion-islam",
          "race/black",
          "race/chinese",
          "race/chinese & gender-female",
          "race/chinese & race-korean_chinese",
          "race/indian",
          "race/indian & gender-female",
          "race/indian & gender-male & race-chinese",
          "race/indian & race-chinese",
          "race/korean_chinese",
          "race/others",
          "race/others & gender-others",
          "race/others & others-socioeconomic_status",
          "race/others & religion-islam",
          "race/southeast_asian",
          "race/southeast_asian & race-korean_chinese",
          "race/white",
          "race/white & gender-female",
          "race/white & politics-conservative",
          "race/white & race-black",
          "religion/buddhism",
          "religion/catholic",
          "religion/catholic & religion-christian",
          "religion/christian",
          "religion/islam",
          "religion/islam & gender-female",
          "religion/islam & politics-progressive",
          "religion/islam & race-black",
          "religion/islam & race-chinese",
          "religion/islam & race-korean_chinese",
          "religion/islam & religion-christian",
          "religion/others",
          "religion/others & race-chinese",
          "religion/others & race-others",
          "religion/others & race-others & others-socioeconomic_status",
          "gender",
          "others",
          "politics",
          "race",
          "religion"
         ],
         "labels": [
          "LGBTQ+",
          "female",
          "female & gender-queer",
          "female & race-black",
          "female & race-southeast_asian",
          "female & religion-christian",
          "feminist & gender-female",
          "feminist & gender-male",
          "feminist & gender-male & gender-female",
          "feminist & gender-queer",
          "feminist & politics-conservative",
          "feminist & politics-progressive",
          "feminist & race-chinese",
          "feminist & race-chinese & gender-female",
          "feminist & race-korean_chinese",
          "feminist & sexual_orientation-homosexual",
          "feminist & sexual_orientation-homosexual & gender-queer",
          "feminist & sexual_orientation-homosexual & religion-islam",
          "male",
          "male & gender-female",
          "male & gender-female & gender-queer",
          "male & gender-queer",
          "male & politics-conservative",
          "male & race-southeast_asian",
          "male & race-white",
          "male & religion-christian",
          "male & religion-islam",
          "others",
          "others & sexual_orientation-others",
          "age",
          "age & others-socioeconomic_status",
          "disability",
          "disease",
          "feminist",
          "others",
          "physical_appearance",
          "sexual_orientation-homosexual & gender-female",
          "sexual_orientation-homosexual & gender-male",
          "sexual_orientation-homosexual & gender-queer",
          "sexual_orientation-homosexual & politics-progressive",
          "sexual_orientation-homosexual & religion-islam",
          "socioeconomic_status",
          "conservative",
          "others",
          "others & gender-others",
          "others & others-age",
          "others & others-socioeconomic_status",
          "others & politics-progressive",
          "others & politics-progressive & politics-conservative",
          "others & race-others",
          "progressive",
          "progressive & gender-female",
          "progressive & politics-conservative",
          "progressive & race-chinese",
          "progressive & race-chinese & race-korean_chinese",
          "progressive & race-korean_chinese",
          "progressive & religion-christian",
          "asian",
          "asian & gender-female",
          "asian & gender-male",
          "asian & race-black",
          "asian & religion-islam",
          "black",
          "chinese",
          "chinese & gender-female",
          "chinese & race-korean_chinese",
          "indian",
          "indian & gender-female",
          "indian & gender-male & race-chinese",
          "indian & race-chinese",
          "korean_chinese",
          "others",
          "others & gender-others",
          "others & others-socioeconomic_status",
          "others & religion-islam",
          "southeast_asian",
          "southeast_asian & race-korean_chinese",
          "white",
          "white & gender-female",
          "white & politics-conservative",
          "white & race-black",
          "buddhism",
          "catholic",
          "catholic & religion-christian",
          "christian",
          "islam",
          "islam & gender-female",
          "islam & politics-progressive",
          "islam & race-black",
          "islam & race-chinese",
          "islam & race-korean_chinese",
          "islam & religion-christian",
          "others",
          "others & race-chinese",
          "others & race-others",
          "others & race-others & others-socioeconomic_status",
          "gender",
          "others",
          "politics",
          "race",
          "religion"
         ],
         "marker": {
          "coloraxis": "coloraxis",
          "colors": {
           "bdata": "qaLWhEM2xz/koDiToXO+P1CNl24Sg7A/NBE2PL1S1j/t6JKEV6W3P3icoiO5/Kc/PEq6faqftj+1ZGhP3ASiPz9aiWaLkbI/YAfOGVHauz8AAAAAAAAAANMgCTyy9qg/C7Wmeccpsj8Wak3zjlOkP2CYTBWMSqo/KH6MuWsJqT8AAAAAAAAAAAu1pnnHKao/b/WSL3Sntz9IiLHKSHzEPz9XW7G/7K4/CfmgZ7Pqyz9E+u3rwDmzPwAAAAAAAAAAzhlR2ht80T8p7Q2+MJm6P5wzorQ3+KI/WXLxrM90xj+1FfvL7sm7P3WYLpE93bg/0pFc/kP6rT/smw53CPbPP5LLf0i/fbs/sxc1UBeZtD8deruqR67BPxSuR+F6FLY/foy5awn5sD+CBMWPMXfJP9HJEbAZn8s/INJvXwfOwT8AAAAAAAAAAKDuId5AdcE/Y2WiH1aQvj9Gt5SrpbHBPwAAAAAAAAAAGw3gLZCgmD9UdCSX/5DQP0YldQKaCKs/ApoIG55euT/8VqDqGVi2P/YQKdHMf7o/ah1VTRB1nz85yoAxHmS/PyxlGeJYF9U/LNSa5h2nqD97FK5H4XqkPwAAAAAAAAAAwSblD8M7wz/CYXyriK2jP/eX3ZOHhaI/AAAAAAAAAADHuriNBvCmP4umXZDLer8/9PoKDlMyvD8Bb4EExY+xP5j6kAtjIqk/lbIMcayLyT8S7xMamzDEPxHHuriNBqA/aJHtfD81rj94ZIQtc3PCP41tVa900sM/umsJ+aBnoz/Av0VohpHHP6kT0ETY8KQ/609E+6d9xD86kst/SL+tPwSLmuCfUMg//Yf029eBsz+1FfvL7smzP9IA3gIJiq8/3NeBc0aUxj8rAfS6w+nHP6AaL90kBrE/9jjNf2rNvz/gCFkpesjCP7ByaJHtfKc/zBP1b4Qyqj9/+zpwzoiiP9XPm4pUGKs/mbuWkA96pj++MJkqGJXMP52Grd7mkr8/nMQgsHJosT8MAiuHFtnSP2EyVTAqqaM/AI8ylGMYwj9BHuC8+1m7P3cK+v6O5r0/qdsVA4TRwj9H47VN+PDBPw==",
           "dtype": "f8"
          }
         },
         "name": "",
         "parents": [
          "gender",
          "gender",
          "gender",
          "gender",
          "gender",
          "gender",
          "gender",
          "gender",
          "gender",
          "gender",
          "gender",
          "gender",
          "gender",
          "gender",
          "gender",
          "gender",
          "gender",
          "gender",
          "gender",
          "gender",
          "gender",
          "gender",
          "gender",
          "gender",
          "gender",
          "gender",
          "gender",
          "gender",
          "gender",
          "others",
          "others",
          "others",
          "others",
          "others",
          "others",
          "others",
          "others",
          "others",
          "others",
          "others",
          "others",
          "others",
          "politics",
          "politics",
          "politics",
          "politics",
          "politics",
          "politics",
          "politics",
          "politics",
          "politics",
          "politics",
          "politics",
          "politics",
          "politics",
          "politics",
          "politics",
          "race",
          "race",
          "race",
          "race",
          "race",
          "race",
          "race",
          "race",
          "race",
          "race",
          "race",
          "race",
          "race",
          "race",
          "race",
          "race",
          "race",
          "race",
          "race",
          "race",
          "race",
          "race",
          "race",
          "race",
          "religion",
          "religion",
          "religion",
          "religion",
          "religion",
          "religion",
          "religion",
          "religion",
          "religion",
          "religion",
          "religion",
          "religion",
          "religion",
          "religion",
          "religion",
          "",
          "",
          "",
          "",
          ""
         ],
         "textinfo": "label+value",
         "tiling": {
          "packing": "squarify"
         },
         "type": "treemap",
         "values": {
          "bdata": "AAAAAACMlEAAAAAAAByQQAAAAAAAAPA/AAAAAAAAAEAAAAAAAAAYQAAAAAAAAABAAAAAAAAARUAAAAAAAAAuQAAAAAAAAAhAAAAAAAAACEAAAAAAAADwPwAAAAAAABxAAAAAAAAAAEAAAAAAAADwPwAAAAAAAABAAAAAAAAACEAAAAAAAADwPwAAAAAAAPA/AAAAAADwgEAAAAAAAAAsQAAAAAAAAPA/AAAAAAAA8D8AAAAAAAAAQAAAAAAAAPA/AAAAAAAAAEAAAAAAAADwPwAAAAAAAABAAAAAAACAWEAAAAAAAAAgQAAAAAAAAE1AAAAAAAAAAEAAAAAAAAA4QAAAAAAAACBAAAAAAADolUAAAAAAAFiOQAAAAAAAAABAAAAAAAAA8D8AAAAAAAAAQAAAAAAAACxAAAAAAAAAAEAAAAAAAADwPwAAAAAAAFNAAAAAAACQckAAAAAAAMCDQAAAAAAAAPA/AAAAAAAAAEAAAAAAAAAAQAAAAAAAAABAAAAAAAAA8D8AAAAAAAAmQAAAAAAAkI9AAAAAAAAAFEAAAAAAAAAsQAAAAAAAAABAAAAAAAAAAEAAAAAAAAAIQAAAAAAAAPA/AAAAAAAAP0AAAAAAAAAYQAAAAAAAABBAAAAAAAAA8D8AAAAAAADwPwAAAAAAIGVAAAAAAABAe0AAAAAAAAAIQAAAAAAAADVAAAAAAAAAZUAAAAAAAAAIQAAAAAAAAPA/AAAAAAAA8D8AAAAAANB6QAAAAAAArJhAAAAAAAAA8D8AAAAAAAAcQAAAAAAAAABAAAAAAAAAUkAAAAAAAAAAQAAAAAAAgFVAAAAAAAAAEEAAAAAAAADwPwAAAAAAAABAAAAAAAAAMUAAAAAAAABMQAAAAAAAAPA/AAAAAADAf0AAAAAAACSQQAAAAAAAABBAAAAAAAAACEAAAAAAAADwPwAAAAAAABRAAAAAAAAA8D8AAAAAAAAUQAAAAAAAQFVAAAAAAAAA8D8AAAAAAAAQQAAAAAAAAPA/AAAAAABMqEAAAAAAAAakQAAAAAAABJ9AAAAAAACsp0AAAAAAAPSaQA==",
          "dtype": "f8"
         }
        }
       ],
       "layout": {
        "coloraxis": {
         "colorbar": {
          "title": {
           "text": "offensive_score"
          }
         },
         "colorscale": [
          [
           0,
           "rgb(255,255,204)"
          ],
          [
           0.125,
           "rgb(255,237,160)"
          ],
          [
           0.25,
           "rgb(254,217,118)"
          ],
          [
           0.375,
           "rgb(254,178,76)"
          ],
          [
           0.5,
           "rgb(253,141,60)"
          ],
          [
           0.625,
           "rgb(252,78,42)"
          ],
          [
           0.75,
           "rgb(227,26,28)"
          ],
          [
           0.875,
           "rgb(189,0,38)"
          ],
          [
           1,
           "rgb(128,0,38)"
          ]
         ]
        },
        "height": 1000,
        "legend": {
         "tracegroupgap": 0
        },
        "margin": {
         "b": 20,
         "l": 20,
         "r": 20,
         "t": 60
        },
        "template": {
         "data": {
          "bar": [
           {
            "error_x": {
             "color": "#2a3f5f"
            },
            "error_y": {
             "color": "#2a3f5f"
            },
            "marker": {
             "line": {
              "color": "#E5ECF6",
              "width": 0.5
             },
             "pattern": {
              "fillmode": "overlay",
              "size": 10,
              "solidity": 0.2
             }
            },
            "type": "bar"
           }
          ],
          "barpolar": [
           {
            "marker": {
             "line": {
              "color": "#E5ECF6",
              "width": 0.5
             },
             "pattern": {
              "fillmode": "overlay",
              "size": 10,
              "solidity": 0.2
             }
            },
            "type": "barpolar"
           }
          ],
          "carpet": [
           {
            "aaxis": {
             "endlinecolor": "#2a3f5f",
             "gridcolor": "white",
             "linecolor": "white",
             "minorgridcolor": "white",
             "startlinecolor": "#2a3f5f"
            },
            "baxis": {
             "endlinecolor": "#2a3f5f",
             "gridcolor": "white",
             "linecolor": "white",
             "minorgridcolor": "white",
             "startlinecolor": "#2a3f5f"
            },
            "type": "carpet"
           }
          ],
          "choropleth": [
           {
            "colorbar": {
             "outlinewidth": 0,
             "ticks": ""
            },
            "type": "choropleth"
           }
          ],
          "contour": [
           {
            "colorbar": {
             "outlinewidth": 0,
             "ticks": ""
            },
            "colorscale": [
             [
              0,
              "#0d0887"
             ],
             [
              0.1111111111111111,
              "#46039f"
             ],
             [
              0.2222222222222222,
              "#7201a8"
             ],
             [
              0.3333333333333333,
              "#9c179e"
             ],
             [
              0.4444444444444444,
              "#bd3786"
             ],
             [
              0.5555555555555556,
              "#d8576b"
             ],
             [
              0.6666666666666666,
              "#ed7953"
             ],
             [
              0.7777777777777778,
              "#fb9f3a"
             ],
             [
              0.8888888888888888,
              "#fdca26"
             ],
             [
              1,
              "#f0f921"
             ]
            ],
            "type": "contour"
           }
          ],
          "contourcarpet": [
           {
            "colorbar": {
             "outlinewidth": 0,
             "ticks": ""
            },
            "type": "contourcarpet"
           }
          ],
          "heatmap": [
           {
            "colorbar": {
             "outlinewidth": 0,
             "ticks": ""
            },
            "colorscale": [
             [
              0,
              "#0d0887"
             ],
             [
              0.1111111111111111,
              "#46039f"
             ],
             [
              0.2222222222222222,
              "#7201a8"
             ],
             [
              0.3333333333333333,
              "#9c179e"
             ],
             [
              0.4444444444444444,
              "#bd3786"
             ],
             [
              0.5555555555555556,
              "#d8576b"
             ],
             [
              0.6666666666666666,
              "#ed7953"
             ],
             [
              0.7777777777777778,
              "#fb9f3a"
             ],
             [
              0.8888888888888888,
              "#fdca26"
             ],
             [
              1,
              "#f0f921"
             ]
            ],
            "type": "heatmap"
           }
          ],
          "histogram": [
           {
            "marker": {
             "pattern": {
              "fillmode": "overlay",
              "size": 10,
              "solidity": 0.2
             }
            },
            "type": "histogram"
           }
          ],
          "histogram2d": [
           {
            "colorbar": {
             "outlinewidth": 0,
             "ticks": ""
            },
            "colorscale": [
             [
              0,
              "#0d0887"
             ],
             [
              0.1111111111111111,
              "#46039f"
             ],
             [
              0.2222222222222222,
              "#7201a8"
             ],
             [
              0.3333333333333333,
              "#9c179e"
             ],
             [
              0.4444444444444444,
              "#bd3786"
             ],
             [
              0.5555555555555556,
              "#d8576b"
             ],
             [
              0.6666666666666666,
              "#ed7953"
             ],
             [
              0.7777777777777778,
              "#fb9f3a"
             ],
             [
              0.8888888888888888,
              "#fdca26"
             ],
             [
              1,
              "#f0f921"
             ]
            ],
            "type": "histogram2d"
           }
          ],
          "histogram2dcontour": [
           {
            "colorbar": {
             "outlinewidth": 0,
             "ticks": ""
            },
            "colorscale": [
             [
              0,
              "#0d0887"
             ],
             [
              0.1111111111111111,
              "#46039f"
             ],
             [
              0.2222222222222222,
              "#7201a8"
             ],
             [
              0.3333333333333333,
              "#9c179e"
             ],
             [
              0.4444444444444444,
              "#bd3786"
             ],
             [
              0.5555555555555556,
              "#d8576b"
             ],
             [
              0.6666666666666666,
              "#ed7953"
             ],
             [
              0.7777777777777778,
              "#fb9f3a"
             ],
             [
              0.8888888888888888,
              "#fdca26"
             ],
             [
              1,
              "#f0f921"
             ]
            ],
            "type": "histogram2dcontour"
           }
          ],
          "mesh3d": [
           {
            "colorbar": {
             "outlinewidth": 0,
             "ticks": ""
            },
            "type": "mesh3d"
           }
          ],
          "parcoords": [
           {
            "line": {
             "colorbar": {
              "outlinewidth": 0,
              "ticks": ""
             }
            },
            "type": "parcoords"
           }
          ],
          "pie": [
           {
            "automargin": true,
            "type": "pie"
           }
          ],
          "scatter": [
           {
            "fillpattern": {
             "fillmode": "overlay",
             "size": 10,
             "solidity": 0.2
            },
            "type": "scatter"
           }
          ],
          "scatter3d": [
           {
            "line": {
             "colorbar": {
              "outlinewidth": 0,
              "ticks": ""
             }
            },
            "marker": {
             "colorbar": {
              "outlinewidth": 0,
              "ticks": ""
             }
            },
            "type": "scatter3d"
           }
          ],
          "scattercarpet": [
           {
            "marker": {
             "colorbar": {
              "outlinewidth": 0,
              "ticks": ""
             }
            },
            "type": "scattercarpet"
           }
          ],
          "scattergeo": [
           {
            "marker": {
             "colorbar": {
              "outlinewidth": 0,
              "ticks": ""
             }
            },
            "type": "scattergeo"
           }
          ],
          "scattergl": [
           {
            "marker": {
             "colorbar": {
              "outlinewidth": 0,
              "ticks": ""
             }
            },
            "type": "scattergl"
           }
          ],
          "scattermap": [
           {
            "marker": {
             "colorbar": {
              "outlinewidth": 0,
              "ticks": ""
             }
            },
            "type": "scattermap"
           }
          ],
          "scattermapbox": [
           {
            "marker": {
             "colorbar": {
              "outlinewidth": 0,
              "ticks": ""
             }
            },
            "type": "scattermapbox"
           }
          ],
          "scatterpolar": [
           {
            "marker": {
             "colorbar": {
              "outlinewidth": 0,
              "ticks": ""
             }
            },
            "type": "scatterpolar"
           }
          ],
          "scatterpolargl": [
           {
            "marker": {
             "colorbar": {
              "outlinewidth": 0,
              "ticks": ""
             }
            },
            "type": "scatterpolargl"
           }
          ],
          "scatterternary": [
           {
            "marker": {
             "colorbar": {
              "outlinewidth": 0,
              "ticks": ""
             }
            },
            "type": "scatterternary"
           }
          ],
          "surface": [
           {
            "colorbar": {
             "outlinewidth": 0,
             "ticks": ""
            },
            "colorscale": [
             [
              0,
              "#0d0887"
             ],
             [
              0.1111111111111111,
              "#46039f"
             ],
             [
              0.2222222222222222,
              "#7201a8"
             ],
             [
              0.3333333333333333,
              "#9c179e"
             ],
             [
              0.4444444444444444,
              "#bd3786"
             ],
             [
              0.5555555555555556,
              "#d8576b"
             ],
             [
              0.6666666666666666,
              "#ed7953"
             ],
             [
              0.7777777777777778,
              "#fb9f3a"
             ],
             [
              0.8888888888888888,
              "#fdca26"
             ],
             [
              1,
              "#f0f921"
             ]
            ],
            "type": "surface"
           }
          ],
          "table": [
           {
            "cells": {
             "fill": {
              "color": "#EBF0F8"
             },
             "line": {
              "color": "white"
             }
            },
            "header": {
             "fill": {
              "color": "#C8D4E3"
             },
             "line": {
              "color": "white"
             }
            },
            "type": "table"
           }
          ]
         },
         "layout": {
          "annotationdefaults": {
           "arrowcolor": "#2a3f5f",
           "arrowhead": 0,
           "arrowwidth": 1
          },
          "autotypenumbers": "strict",
          "coloraxis": {
           "colorbar": {
            "outlinewidth": 0,
            "ticks": ""
           }
          },
          "colorscale": {
           "diverging": [
            [
             0,
             "#8e0152"
            ],
            [
             0.1,
             "#c51b7d"
            ],
            [
             0.2,
             "#de77ae"
            ],
            [
             0.3,
             "#f1b6da"
            ],
            [
             0.4,
             "#fde0ef"
            ],
            [
             0.5,
             "#f7f7f7"
            ],
            [
             0.6,
             "#e6f5d0"
            ],
            [
             0.7,
             "#b8e186"
            ],
            [
             0.8,
             "#7fbc41"
            ],
            [
             0.9,
             "#4d9221"
            ],
            [
             1,
             "#276419"
            ]
           ],
           "sequential": [
            [
             0,
             "#0d0887"
            ],
            [
             0.1111111111111111,
             "#46039f"
            ],
            [
             0.2222222222222222,
             "#7201a8"
            ],
            [
             0.3333333333333333,
             "#9c179e"
            ],
            [
             0.4444444444444444,
             "#bd3786"
            ],
            [
             0.5555555555555556,
             "#d8576b"
            ],
            [
             0.6666666666666666,
             "#ed7953"
            ],
            [
             0.7777777777777778,
             "#fb9f3a"
            ],
            [
             0.8888888888888888,
             "#fdca26"
            ],
            [
             1,
             "#f0f921"
            ]
           ],
           "sequentialminus": [
            [
             0,
             "#0d0887"
            ],
            [
             0.1111111111111111,
             "#46039f"
            ],
            [
             0.2222222222222222,
             "#7201a8"
            ],
            [
             0.3333333333333333,
             "#9c179e"
            ],
            [
             0.4444444444444444,
             "#bd3786"
            ],
            [
             0.5555555555555556,
             "#d8576b"
            ],
            [
             0.6666666666666666,
             "#ed7953"
            ],
            [
             0.7777777777777778,
             "#fb9f3a"
            ],
            [
             0.8888888888888888,
             "#fdca26"
            ],
            [
             1,
             "#f0f921"
            ]
           ]
          },
          "colorway": [
           "#636efa",
           "#EF553B",
           "#00cc96",
           "#ab63fa",
           "#FFA15A",
           "#19d3f3",
           "#FF6692",
           "#B6E880",
           "#FF97FF",
           "#FECB52"
          ],
          "font": {
           "color": "#2a3f5f"
          },
          "geo": {
           "bgcolor": "white",
           "lakecolor": "white",
           "landcolor": "#E5ECF6",
           "showlakes": true,
           "showland": true,
           "subunitcolor": "white"
          },
          "hoverlabel": {
           "align": "left"
          },
          "hovermode": "closest",
          "mapbox": {
           "style": "light"
          },
          "paper_bgcolor": "white",
          "plot_bgcolor": "#E5ECF6",
          "polar": {
           "angularaxis": {
            "gridcolor": "white",
            "linecolor": "white",
            "ticks": ""
           },
           "bgcolor": "#E5ECF6",
           "radialaxis": {
            "gridcolor": "white",
            "linecolor": "white",
            "ticks": ""
           }
          },
          "scene": {
           "xaxis": {
            "backgroundcolor": "#E5ECF6",
            "gridcolor": "white",
            "gridwidth": 2,
            "linecolor": "white",
            "showbackground": true,
            "ticks": "",
            "zerolinecolor": "white"
           },
           "yaxis": {
            "backgroundcolor": "#E5ECF6",
            "gridcolor": "white",
            "gridwidth": 2,
            "linecolor": "white",
            "showbackground": true,
            "ticks": "",
            "zerolinecolor": "white"
           },
           "zaxis": {
            "backgroundcolor": "#E5ECF6",
            "gridcolor": "white",
            "gridwidth": 2,
            "linecolor": "white",
            "showbackground": true,
            "ticks": "",
            "zerolinecolor": "white"
           }
          },
          "shapedefaults": {
           "line": {
            "color": "#2a3f5f"
           }
          },
          "ternary": {
           "aaxis": {
            "gridcolor": "white",
            "linecolor": "white",
            "ticks": ""
           },
           "baxis": {
            "gridcolor": "white",
            "linecolor": "white",
            "ticks": ""
           },
           "bgcolor": "#E5ECF6",
           "caxis": {
            "gridcolor": "white",
            "linecolor": "white",
            "ticks": ""
           }
          },
          "title": {
           "x": 0.05
          },
          "xaxis": {
           "automargin": true,
           "gridcolor": "white",
           "linecolor": "white",
           "ticks": "",
           "title": {
            "standoff": 15
           },
           "zerolinecolor": "white",
           "zerolinewidth": 2
          },
          "yaxis": {
           "automargin": true,
           "gridcolor": "white",
           "linecolor": "white",
           "ticks": "",
           "title": {
            "standoff": 15
           },
           "zerolinecolor": "white",
           "zerolinewidth": 2
          }
         }
        },
        "title": {
         "font": {
          "size": 20
         },
         "text": "Target Group Treemap (colored by offensive score)"
        },
        "uniformtext": {
         "minsize": 10,
         "mode": "hide"
        },
        "width": 1000
       }
      }
     },
     "metadata": {},
     "output_type": "display_data"
    }
   ],
   "source": [
    "# 1. offensive_score 포함된 문서만 가져오기\n",
    "collection = get_collection()  # 이미 OFF=True, GRP!=None, offensive_score 존재하는 데이터만 반환\n",
    "\n",
    "data = []\n",
    "pattern = re.compile(r\"^(gender|race|politics|religion|others)[-_](.+)$\", re.IGNORECASE)\n",
    "\n",
    "for doc in collection.find({}, {\"GRP\": 1, \"offensive_score\": 1}):\n",
    "    tg = doc.get(\"GRP\")\n",
    "    score = doc.get(\"offensive_score\", 0)\n",
    "    \n",
    "    if isinstance(tg, str):\n",
    "        match = pattern.match(tg)\n",
    "        if match:\n",
    "            category = match.group(1)\n",
    "            subgroup = match.group(2)\n",
    "        else:\n",
    "            category = \"others\"\n",
    "            subgroup = tg\n",
    "        \n",
    "        data.append((category, subgroup, score))\n",
    "\n",
    "# 2. DataFrame으로 변환\n",
    "df = pd.DataFrame(data, columns=[\"category\", \"subgroup\", \"offensive_score\"])\n",
    "\n",
    "# 3. 카운트 + 평균 offensive_score 집계\n",
    "agg_df = df.groupby([\"category\", \"subgroup\"]).agg(\n",
    "    count=(\"offensive_score\", \"count\"),\n",
    "    offensive_score=(\"offensive_score\", \"mean\")  # 평균 점수 사용\n",
    ").reset_index()\n",
    "\n",
    "# 4. 트리맵 시각화\n",
    "fig = px.treemap(\n",
    "    agg_df,\n",
    "    path=['category', 'subgroup'],\n",
    "    values='count',\n",
    "    color='offensive_score',\n",
    "    color_continuous_scale='YlOrRd',\n",
    "    title='Target Group Treemap (colored by offensive score)',\n",
    "    hover_data=['count', 'offensive_score']\n",
    ")\n",
    "\n",
    "\n",
    "fig.update_traces(\n",
    "    tiling=dict(packing=\"squarify\"),\n",
    "    textinfo=\"label+value\"\n",
    ")\n",
    "\n",
    "fig.update_layout(\n",
    "    width=1000,\n",
    "    height=1000,\n",
    "    margin=dict(t=60, l=20, r=20, b=20),\n",
    "    uniformtext=dict(minsize=10, mode='hide'),\n",
    "    title_font_size=20\n",
    ")\n",
    "\n",
    "fig.show()\n"
   ]
  },
  {
   "cell_type": "code",
   "execution_count": null,
   "id": "7cee3815",
   "metadata": {},
   "outputs": [
    {
     "data": {
      "application/vnd.plotly.v1+json": {
       "config": {
        "plotlyServerURL": "https://plot.ly"
       },
       "data": [
        {
         "branchvalues": "total",
         "customdata": {
          "bdata": "AAAAAACATUD+ByMeAX3GPwAAAAAA8HRAjPN1NUxZwj8AAAAAAIBgQI7MoJXZJsQ/AAAAAADwdUDoQb7+Go3GPwAAAAAAADZAmIM2WO1u0T8AAAAAAFiJQEN34Sq77Mc/AAAAAACMkEB/yexNu9LMPwAAAAAAEH9AT4t2wQiAxj8AAAAAAMCJQK02zfT/DMM/AAAAAAAAOEC5/If029fIPwAAAAAAAElAxQJf0a3XvD8AAAAAAAB5QAMoRpbMMcQ/AAAAAABge0CNiGdMR0W9PwAAAAAApJFAVanxMSmUuT8AAAAAAAAqQFtVR0jShs0/AAAAAACARkAlBzsnMsLNPwAAAAAAgFBAiPvnHuZUxD8AAAAAAAAAQBSuR+F6FLY/AAAAAAAAFEB2PGagMv7FPwAAAAAAjJNAh8pPuu0EyT8AAAAAAKiIQLxknNj59cA/AAAAAADAUUAN0Eegr3PNPwAAAAAAgE5AQ7L8G5gvyD8AAAAAAFCIQNH4aogfEcY/AAAAAABAU0C3SzM5q5TMPwAAAAAAAG5A7+GS407pwj8AAAAAAGBgQOxg0+RgYdA/AAAAAAD0n0AXBj1gneXAPwAAAAAAaKJA7T+x4ZX4xz8AAAAAANyUQDVJbNZw4cY/AAAAAAC8okDkAtdPr93GPwAAAAAA2JdAIputQFoSwz8=",
          "dtype": "f8",
          "shape": "32, 2"
         },
         "domain": {
          "x": [
           0,
           1
          ],
          "y": [
           0,
           1
          ]
         },
         "hovertemplate": "labels=%{label}<br>count=%{customdata[0]}<br>parent=%{parent}<br>id=%{id}<br>offensive_score=%{color}<extra></extra>",
         "ids": [
          "others/socioeconomic_status",
          "race/chinese",
          "race/black",
          "race/korean_chinese",
          "others/disability",
          "religion/islam",
          "gender/LGBTQ+",
          "politics/others",
          "gender/female",
          "race/asian",
          "others/age",
          "religion/christian",
          "gender/male",
          "others/feminist",
          "religion/buddhism",
          "religion/catholic",
          "religion/others",
          "others/physical_appearance",
          "others/disease",
          "race/others",
          "politics/progressive",
          "race/white",
          "race/southeast_asian",
          "others/others",
          "gender/others",
          "politics/conservative",
          "race/indian",
          "others",
          "race",
          "religion",
          "gender",
          "politics"
         ],
         "labels": [
          "socioeconomic_status",
          "chinese",
          "black",
          "korean_chinese",
          "disability",
          "islam",
          "LGBTQ+",
          "others",
          "female",
          "asian",
          "age",
          "christian",
          "male",
          "feminist",
          "buddhism",
          "catholic",
          "others",
          "physical_appearance",
          "disease",
          "others",
          "progressive",
          "white",
          "southeast_asian",
          "others",
          "others",
          "conservative",
          "indian",
          "others",
          "race",
          "religion",
          "gender",
          "politics"
         ],
         "marker": {
          "coloraxis": "coloraxis",
          "colors": {
           "bdata": "/gcjHgF9xj+M83U1TFnCP47MoJXZJsQ/6EG+/hqNxj+YgzZY7W7RP0N34Sq77Mc/f8nsTbvSzD9Pi3bBCIDGP602zfT/DMM/ufyH9NvXyD/FAl/Rrde8PwMoRpbMMcQ/jYhnTEdFvT9VqfExKZS5P1tVR0jShs0/JQc7JzLCzT+I++ce5lTEPxSuR+F6FLY/djxmoDL+xT+Hyk+67QTJP7xknNj59cA/DdBHoK9zzT9DsvwbmC/IP9H4aogfEcY/t0szOauUzD/v4ZLjTunCP+xg0+RgYdA/FwY9YJ3lwD/tP7HhlfjHPzVJbNZw4cY/5ALXT6/dxj8im61AWhLDPw==",
           "dtype": "f8"
          }
         },
         "name": "",
         "parents": [
          "others",
          "race",
          "race",
          "race",
          "others",
          "religion",
          "gender",
          "politics",
          "gender",
          "race",
          "others",
          "religion",
          "gender",
          "others",
          "religion",
          "religion",
          "religion",
          "others",
          "others",
          "race",
          "politics",
          "race",
          "race",
          "others",
          "gender",
          "politics",
          "race",
          "",
          "",
          "",
          "",
          ""
         ],
         "textinfo": "label+value",
         "tiling": {
          "packing": "squarify"
         },
         "type": "treemap",
         "values": {
          "bdata": "AAAAAACATUAAAAAAAPB0QAAAAAAAgGBAAAAAAADwdUAAAAAAAAA2QAAAAAAAWIlAAAAAAACMkEAAAAAAABB/QAAAAAAAwIlAAAAAAAAAOEAAAAAAAABJQAAAAAAAAHlAAAAAAABge0AAAAAAAKSRQAAAAAAAACpAAAAAAACARkAAAAAAAIBQQAAAAAAAAABAAAAAAAAAFEAAAAAAAIyTQAAAAAAAqIhAAAAAAADAUUAAAAAAAIBOQAAAAAAAUIhAAAAAAABAU0AAAAAAAABuQAAAAAAAYGBAAAAAAAD0n0AAAAAAAGiiQAAAAAAA3JRAAAAAAAC8okAAAAAAANiXQA==",
          "dtype": "f8"
         }
        }
       ],
       "layout": {
        "coloraxis": {
         "colorbar": {
          "title": {
           "text": "offensive_score"
          }
         },
         "colorscale": [
          [
           0,
           "rgb(255,255,204)"
          ],
          [
           0.125,
           "rgb(255,237,160)"
          ],
          [
           0.25,
           "rgb(254,217,118)"
          ],
          [
           0.375,
           "rgb(254,178,76)"
          ],
          [
           0.5,
           "rgb(253,141,60)"
          ],
          [
           0.625,
           "rgb(252,78,42)"
          ],
          [
           0.75,
           "rgb(227,26,28)"
          ],
          [
           0.875,
           "rgb(189,0,38)"
          ],
          [
           1,
           "rgb(128,0,38)"
          ]
         ]
        },
        "height": 1000,
        "legend": {
         "tracegroupgap": 0
        },
        "margin": {
         "b": 20,
         "l": 20,
         "r": 20,
         "t": 60
        },
        "template": {
         "data": {
          "bar": [
           {
            "error_x": {
             "color": "#2a3f5f"
            },
            "error_y": {
             "color": "#2a3f5f"
            },
            "marker": {
             "line": {
              "color": "#E5ECF6",
              "width": 0.5
             },
             "pattern": {
              "fillmode": "overlay",
              "size": 10,
              "solidity": 0.2
             }
            },
            "type": "bar"
           }
          ],
          "barpolar": [
           {
            "marker": {
             "line": {
              "color": "#E5ECF6",
              "width": 0.5
             },
             "pattern": {
              "fillmode": "overlay",
              "size": 10,
              "solidity": 0.2
             }
            },
            "type": "barpolar"
           }
          ],
          "carpet": [
           {
            "aaxis": {
             "endlinecolor": "#2a3f5f",
             "gridcolor": "white",
             "linecolor": "white",
             "minorgridcolor": "white",
             "startlinecolor": "#2a3f5f"
            },
            "baxis": {
             "endlinecolor": "#2a3f5f",
             "gridcolor": "white",
             "linecolor": "white",
             "minorgridcolor": "white",
             "startlinecolor": "#2a3f5f"
            },
            "type": "carpet"
           }
          ],
          "choropleth": [
           {
            "colorbar": {
             "outlinewidth": 0,
             "ticks": ""
            },
            "type": "choropleth"
           }
          ],
          "contour": [
           {
            "colorbar": {
             "outlinewidth": 0,
             "ticks": ""
            },
            "colorscale": [
             [
              0,
              "#0d0887"
             ],
             [
              0.1111111111111111,
              "#46039f"
             ],
             [
              0.2222222222222222,
              "#7201a8"
             ],
             [
              0.3333333333333333,
              "#9c179e"
             ],
             [
              0.4444444444444444,
              "#bd3786"
             ],
             [
              0.5555555555555556,
              "#d8576b"
             ],
             [
              0.6666666666666666,
              "#ed7953"
             ],
             [
              0.7777777777777778,
              "#fb9f3a"
             ],
             [
              0.8888888888888888,
              "#fdca26"
             ],
             [
              1,
              "#f0f921"
             ]
            ],
            "type": "contour"
           }
          ],
          "contourcarpet": [
           {
            "colorbar": {
             "outlinewidth": 0,
             "ticks": ""
            },
            "type": "contourcarpet"
           }
          ],
          "heatmap": [
           {
            "colorbar": {
             "outlinewidth": 0,
             "ticks": ""
            },
            "colorscale": [
             [
              0,
              "#0d0887"
             ],
             [
              0.1111111111111111,
              "#46039f"
             ],
             [
              0.2222222222222222,
              "#7201a8"
             ],
             [
              0.3333333333333333,
              "#9c179e"
             ],
             [
              0.4444444444444444,
              "#bd3786"
             ],
             [
              0.5555555555555556,
              "#d8576b"
             ],
             [
              0.6666666666666666,
              "#ed7953"
             ],
             [
              0.7777777777777778,
              "#fb9f3a"
             ],
             [
              0.8888888888888888,
              "#fdca26"
             ],
             [
              1,
              "#f0f921"
             ]
            ],
            "type": "heatmap"
           }
          ],
          "histogram": [
           {
            "marker": {
             "pattern": {
              "fillmode": "overlay",
              "size": 10,
              "solidity": 0.2
             }
            },
            "type": "histogram"
           }
          ],
          "histogram2d": [
           {
            "colorbar": {
             "outlinewidth": 0,
             "ticks": ""
            },
            "colorscale": [
             [
              0,
              "#0d0887"
             ],
             [
              0.1111111111111111,
              "#46039f"
             ],
             [
              0.2222222222222222,
              "#7201a8"
             ],
             [
              0.3333333333333333,
              "#9c179e"
             ],
             [
              0.4444444444444444,
              "#bd3786"
             ],
             [
              0.5555555555555556,
              "#d8576b"
             ],
             [
              0.6666666666666666,
              "#ed7953"
             ],
             [
              0.7777777777777778,
              "#fb9f3a"
             ],
             [
              0.8888888888888888,
              "#fdca26"
             ],
             [
              1,
              "#f0f921"
             ]
            ],
            "type": "histogram2d"
           }
          ],
          "histogram2dcontour": [
           {
            "colorbar": {
             "outlinewidth": 0,
             "ticks": ""
            },
            "colorscale": [
             [
              0,
              "#0d0887"
             ],
             [
              0.1111111111111111,
              "#46039f"
             ],
             [
              0.2222222222222222,
              "#7201a8"
             ],
             [
              0.3333333333333333,
              "#9c179e"
             ],
             [
              0.4444444444444444,
              "#bd3786"
             ],
             [
              0.5555555555555556,
              "#d8576b"
             ],
             [
              0.6666666666666666,
              "#ed7953"
             ],
             [
              0.7777777777777778,
              "#fb9f3a"
             ],
             [
              0.8888888888888888,
              "#fdca26"
             ],
             [
              1,
              "#f0f921"
             ]
            ],
            "type": "histogram2dcontour"
           }
          ],
          "mesh3d": [
           {
            "colorbar": {
             "outlinewidth": 0,
             "ticks": ""
            },
            "type": "mesh3d"
           }
          ],
          "parcoords": [
           {
            "line": {
             "colorbar": {
              "outlinewidth": 0,
              "ticks": ""
             }
            },
            "type": "parcoords"
           }
          ],
          "pie": [
           {
            "automargin": true,
            "type": "pie"
           }
          ],
          "scatter": [
           {
            "fillpattern": {
             "fillmode": "overlay",
             "size": 10,
             "solidity": 0.2
            },
            "type": "scatter"
           }
          ],
          "scatter3d": [
           {
            "line": {
             "colorbar": {
              "outlinewidth": 0,
              "ticks": ""
             }
            },
            "marker": {
             "colorbar": {
              "outlinewidth": 0,
              "ticks": ""
             }
            },
            "type": "scatter3d"
           }
          ],
          "scattercarpet": [
           {
            "marker": {
             "colorbar": {
              "outlinewidth": 0,
              "ticks": ""
             }
            },
            "type": "scattercarpet"
           }
          ],
          "scattergeo": [
           {
            "marker": {
             "colorbar": {
              "outlinewidth": 0,
              "ticks": ""
             }
            },
            "type": "scattergeo"
           }
          ],
          "scattergl": [
           {
            "marker": {
             "colorbar": {
              "outlinewidth": 0,
              "ticks": ""
             }
            },
            "type": "scattergl"
           }
          ],
          "scattermap": [
           {
            "marker": {
             "colorbar": {
              "outlinewidth": 0,
              "ticks": ""
             }
            },
            "type": "scattermap"
           }
          ],
          "scattermapbox": [
           {
            "marker": {
             "colorbar": {
              "outlinewidth": 0,
              "ticks": ""
             }
            },
            "type": "scattermapbox"
           }
          ],
          "scatterpolar": [
           {
            "marker": {
             "colorbar": {
              "outlinewidth": 0,
              "ticks": ""
             }
            },
            "type": "scatterpolar"
           }
          ],
          "scatterpolargl": [
           {
            "marker": {
             "colorbar": {
              "outlinewidth": 0,
              "ticks": ""
             }
            },
            "type": "scatterpolargl"
           }
          ],
          "scatterternary": [
           {
            "marker": {
             "colorbar": {
              "outlinewidth": 0,
              "ticks": ""
             }
            },
            "type": "scatterternary"
           }
          ],
          "surface": [
           {
            "colorbar": {
             "outlinewidth": 0,
             "ticks": ""
            },
            "colorscale": [
             [
              0,
              "#0d0887"
             ],
             [
              0.1111111111111111,
              "#46039f"
             ],
             [
              0.2222222222222222,
              "#7201a8"
             ],
             [
              0.3333333333333333,
              "#9c179e"
             ],
             [
              0.4444444444444444,
              "#bd3786"
             ],
             [
              0.5555555555555556,
              "#d8576b"
             ],
             [
              0.6666666666666666,
              "#ed7953"
             ],
             [
              0.7777777777777778,
              "#fb9f3a"
             ],
             [
              0.8888888888888888,
              "#fdca26"
             ],
             [
              1,
              "#f0f921"
             ]
            ],
            "type": "surface"
           }
          ],
          "table": [
           {
            "cells": {
             "fill": {
              "color": "#EBF0F8"
             },
             "line": {
              "color": "white"
             }
            },
            "header": {
             "fill": {
              "color": "#C8D4E3"
             },
             "line": {
              "color": "white"
             }
            },
            "type": "table"
           }
          ]
         },
         "layout": {
          "annotationdefaults": {
           "arrowcolor": "#2a3f5f",
           "arrowhead": 0,
           "arrowwidth": 1
          },
          "autotypenumbers": "strict",
          "coloraxis": {
           "colorbar": {
            "outlinewidth": 0,
            "ticks": ""
           }
          },
          "colorscale": {
           "diverging": [
            [
             0,
             "#8e0152"
            ],
            [
             0.1,
             "#c51b7d"
            ],
            [
             0.2,
             "#de77ae"
            ],
            [
             0.3,
             "#f1b6da"
            ],
            [
             0.4,
             "#fde0ef"
            ],
            [
             0.5,
             "#f7f7f7"
            ],
            [
             0.6,
             "#e6f5d0"
            ],
            [
             0.7,
             "#b8e186"
            ],
            [
             0.8,
             "#7fbc41"
            ],
            [
             0.9,
             "#4d9221"
            ],
            [
             1,
             "#276419"
            ]
           ],
           "sequential": [
            [
             0,
             "#0d0887"
            ],
            [
             0.1111111111111111,
             "#46039f"
            ],
            [
             0.2222222222222222,
             "#7201a8"
            ],
            [
             0.3333333333333333,
             "#9c179e"
            ],
            [
             0.4444444444444444,
             "#bd3786"
            ],
            [
             0.5555555555555556,
             "#d8576b"
            ],
            [
             0.6666666666666666,
             "#ed7953"
            ],
            [
             0.7777777777777778,
             "#fb9f3a"
            ],
            [
             0.8888888888888888,
             "#fdca26"
            ],
            [
             1,
             "#f0f921"
            ]
           ],
           "sequentialminus": [
            [
             0,
             "#0d0887"
            ],
            [
             0.1111111111111111,
             "#46039f"
            ],
            [
             0.2222222222222222,
             "#7201a8"
            ],
            [
             0.3333333333333333,
             "#9c179e"
            ],
            [
             0.4444444444444444,
             "#bd3786"
            ],
            [
             0.5555555555555556,
             "#d8576b"
            ],
            [
             0.6666666666666666,
             "#ed7953"
            ],
            [
             0.7777777777777778,
             "#fb9f3a"
            ],
            [
             0.8888888888888888,
             "#fdca26"
            ],
            [
             1,
             "#f0f921"
            ]
           ]
          },
          "colorway": [
           "#636efa",
           "#EF553B",
           "#00cc96",
           "#ab63fa",
           "#FFA15A",
           "#19d3f3",
           "#FF6692",
           "#B6E880",
           "#FF97FF",
           "#FECB52"
          ],
          "font": {
           "color": "#2a3f5f"
          },
          "geo": {
           "bgcolor": "white",
           "lakecolor": "white",
           "landcolor": "#E5ECF6",
           "showlakes": true,
           "showland": true,
           "subunitcolor": "white"
          },
          "hoverlabel": {
           "align": "left"
          },
          "hovermode": "closest",
          "mapbox": {
           "style": "light"
          },
          "paper_bgcolor": "white",
          "plot_bgcolor": "#E5ECF6",
          "polar": {
           "angularaxis": {
            "gridcolor": "white",
            "linecolor": "white",
            "ticks": ""
           },
           "bgcolor": "#E5ECF6",
           "radialaxis": {
            "gridcolor": "white",
            "linecolor": "white",
            "ticks": ""
           }
          },
          "scene": {
           "xaxis": {
            "backgroundcolor": "#E5ECF6",
            "gridcolor": "white",
            "gridwidth": 2,
            "linecolor": "white",
            "showbackground": true,
            "ticks": "",
            "zerolinecolor": "white"
           },
           "yaxis": {
            "backgroundcolor": "#E5ECF6",
            "gridcolor": "white",
            "gridwidth": 2,
            "linecolor": "white",
            "showbackground": true,
            "ticks": "",
            "zerolinecolor": "white"
           },
           "zaxis": {
            "backgroundcolor": "#E5ECF6",
            "gridcolor": "white",
            "gridwidth": 2,
            "linecolor": "white",
            "showbackground": true,
            "ticks": "",
            "zerolinecolor": "white"
           }
          },
          "shapedefaults": {
           "line": {
            "color": "#2a3f5f"
           }
          },
          "ternary": {
           "aaxis": {
            "gridcolor": "white",
            "linecolor": "white",
            "ticks": ""
           },
           "baxis": {
            "gridcolor": "white",
            "linecolor": "white",
            "ticks": ""
           },
           "bgcolor": "#E5ECF6",
           "caxis": {
            "gridcolor": "white",
            "linecolor": "white",
            "ticks": ""
           }
          },
          "title": {
           "x": 0.05
          },
          "xaxis": {
           "automargin": true,
           "gridcolor": "white",
           "linecolor": "white",
           "ticks": "",
           "title": {
            "standoff": 15
           },
           "zerolinecolor": "white",
           "zerolinewidth": 2
          },
          "yaxis": {
           "automargin": true,
           "gridcolor": "white",
           "linecolor": "white",
           "ticks": "",
           "title": {
            "standoff": 15
           },
           "zerolinecolor": "white",
           "zerolinewidth": 2
          }
         }
        },
        "title": {
         "font": {
          "size": 20
         },
         "text": "Target Group Treemap (colored by offensive score)"
        },
        "uniformtext": {
         "minsize": 10,
         "mode": "hide"
        },
        "width": 1000
       }
      }
     },
     "metadata": {},
     "output_type": "display_data"
    }
   ],
   "source": [
    "import pandas as pd\n",
    "import plotly.express as px\n",
    "\n",
    "# 데이터 로딩 및 전처리\n",
    "from module.df.data_loader import get_target_group_df\n",
    "df = get_target_group_df()\n",
    "\n",
    "# 2. 에러 방지: 빈 subgroup 제거\n",
    "df = df[df['subgroup'].notna()]\n",
    "df = df[df['subgroup'].str.strip() != \"\"]\n",
    "\n",
    "fig = px.treemap(\n",
    "    df,\n",
    "    path=['category', 'subgroup'],\n",
    "    values='count',\n",
    "    color='offensive_score',\n",
    "    color_continuous_scale='YlOrRd',\n",
    "    title='Target Group Treemap (colored by offensive score)',\n",
    "    hover_data=['count', 'offensive_score']\n",
    ")\n",
    "\n",
    "fig.update_traces(\n",
    "    tiling=dict(packing=\"squarify\"),\n",
    "    textinfo=\"label+value\"\n",
    ")\n",
    "\n",
    "fig.update_layout(\n",
    "    width=1000,\n",
    "    height=1000,\n",
    "    margin=dict(t=60, l=20, r=20, b=20),\n",
    "    uniformtext=dict(minsize=10, mode='hide'),\n",
    "    title_font_size=20\n",
    "    textfont=dict(size=16)  # 👉 글씨 크기 설정\n",
    ")\n",
    "\n",
    "fig.show()\n"
   ]
  },
  {
   "cell_type": "code",
   "execution_count": 11,
   "id": "599a4d80-39e7-41cb-b96e-f90c6f782c93",
   "metadata": {},
   "outputs": [
    {
     "name": "stderr",
     "output_type": "stream",
     "text": [
      "C:\\Users\\mega3\\AppData\\Local\\Temp\\ipykernel_21324\\1071375394.py:76: UserWarning:\n",
      "\n",
      "Glyph 51064 (\\N{HANGUL SYLLABLE IN}) missing from font(s) DejaVu Sans.\n",
      "\n",
      "C:\\Users\\mega3\\AppData\\Local\\Temp\\ipykernel_21324\\1071375394.py:76: UserWarning:\n",
      "\n",
      "Glyph 51333 (\\N{HANGUL SYLLABLE JONG}) missing from font(s) DejaVu Sans.\n",
      "\n",
      "C:\\Users\\mega3\\AppData\\Local\\Temp\\ipykernel_21324\\1071375394.py:76: UserWarning:\n",
      "\n",
      "Glyph 48324 (\\N{HANGUL SYLLABLE BYEOL}) missing from font(s) DejaVu Sans.\n",
      "\n",
      "C:\\Users\\mega3\\AppData\\Local\\Temp\\ipykernel_21324\\1071375394.py:76: UserWarning:\n",
      "\n",
      "Glyph 51613 (\\N{HANGUL SYLLABLE JEUNG}) missing from font(s) DejaVu Sans.\n",
      "\n",
      "C:\\Users\\mega3\\AppData\\Local\\Temp\\ipykernel_21324\\1071375394.py:76: UserWarning:\n",
      "\n",
      "Glyph 50724 (\\N{HANGUL SYLLABLE O}) missing from font(s) DejaVu Sans.\n",
      "\n",
      "C:\\Users\\mega3\\AppData\\Local\\Temp\\ipykernel_21324\\1071375394.py:76: UserWarning:\n",
      "\n",
      "Glyph 54364 (\\N{HANGUL SYLLABLE PYO}) missing from font(s) DejaVu Sans.\n",
      "\n",
      "C:\\Users\\mega3\\AppData\\Local\\Temp\\ipykernel_21324\\1071375394.py:76: UserWarning:\n",
      "\n",
      "Glyph 54788 (\\N{HANGUL SYLLABLE HYEON}) missing from font(s) DejaVu Sans.\n",
      "\n",
      "C:\\Users\\mega3\\AppData\\Local\\Temp\\ipykernel_21324\\1071375394.py:76: UserWarning:\n",
      "\n",
      "Glyph 48708 (\\N{HANGUL SYLLABLE BI}) missing from font(s) DejaVu Sans.\n",
      "\n",
      "C:\\Users\\mega3\\AppData\\Local\\Temp\\ipykernel_21324\\1071375394.py:76: UserWarning:\n",
      "\n",
      "Glyph 50984 (\\N{HANGUL SYLLABLE YUL}) missing from font(s) DejaVu Sans.\n",
      "\n",
      "C:\\Users\\mega3\\AppData\\Local\\Packages\\PythonSoftwareFoundation.Python.3.11_qbz5n2kfra8p0\\LocalCache\\local-packages\\Python311\\site-packages\\IPython\\core\\pylabtools.py:170: UserWarning:\n",
      "\n",
      "Glyph 51064 (\\N{HANGUL SYLLABLE IN}) missing from font(s) DejaVu Sans.\n",
      "\n",
      "C:\\Users\\mega3\\AppData\\Local\\Packages\\PythonSoftwareFoundation.Python.3.11_qbz5n2kfra8p0\\LocalCache\\local-packages\\Python311\\site-packages\\IPython\\core\\pylabtools.py:170: UserWarning:\n",
      "\n",
      "Glyph 51333 (\\N{HANGUL SYLLABLE JONG}) missing from font(s) DejaVu Sans.\n",
      "\n",
      "C:\\Users\\mega3\\AppData\\Local\\Packages\\PythonSoftwareFoundation.Python.3.11_qbz5n2kfra8p0\\LocalCache\\local-packages\\Python311\\site-packages\\IPython\\core\\pylabtools.py:170: UserWarning:\n",
      "\n",
      "Glyph 48324 (\\N{HANGUL SYLLABLE BYEOL}) missing from font(s) DejaVu Sans.\n",
      "\n",
      "C:\\Users\\mega3\\AppData\\Local\\Packages\\PythonSoftwareFoundation.Python.3.11_qbz5n2kfra8p0\\LocalCache\\local-packages\\Python311\\site-packages\\IPython\\core\\pylabtools.py:170: UserWarning:\n",
      "\n",
      "Glyph 51613 (\\N{HANGUL SYLLABLE JEUNG}) missing from font(s) DejaVu Sans.\n",
      "\n",
      "C:\\Users\\mega3\\AppData\\Local\\Packages\\PythonSoftwareFoundation.Python.3.11_qbz5n2kfra8p0\\LocalCache\\local-packages\\Python311\\site-packages\\IPython\\core\\pylabtools.py:170: UserWarning:\n",
      "\n",
      "Glyph 50724 (\\N{HANGUL SYLLABLE O}) missing from font(s) DejaVu Sans.\n",
      "\n",
      "C:\\Users\\mega3\\AppData\\Local\\Packages\\PythonSoftwareFoundation.Python.3.11_qbz5n2kfra8p0\\LocalCache\\local-packages\\Python311\\site-packages\\IPython\\core\\pylabtools.py:170: UserWarning:\n",
      "\n",
      "Glyph 54364 (\\N{HANGUL SYLLABLE PYO}) missing from font(s) DejaVu Sans.\n",
      "\n",
      "C:\\Users\\mega3\\AppData\\Local\\Packages\\PythonSoftwareFoundation.Python.3.11_qbz5n2kfra8p0\\LocalCache\\local-packages\\Python311\\site-packages\\IPython\\core\\pylabtools.py:170: UserWarning:\n",
      "\n",
      "Glyph 54788 (\\N{HANGUL SYLLABLE HYEON}) missing from font(s) DejaVu Sans.\n",
      "\n",
      "C:\\Users\\mega3\\AppData\\Local\\Packages\\PythonSoftwareFoundation.Python.3.11_qbz5n2kfra8p0\\LocalCache\\local-packages\\Python311\\site-packages\\IPython\\core\\pylabtools.py:170: UserWarning:\n",
      "\n",
      "Glyph 48708 (\\N{HANGUL SYLLABLE BI}) missing from font(s) DejaVu Sans.\n",
      "\n",
      "C:\\Users\\mega3\\AppData\\Local\\Packages\\PythonSoftwareFoundation.Python.3.11_qbz5n2kfra8p0\\LocalCache\\local-packages\\Python311\\site-packages\\IPython\\core\\pylabtools.py:170: UserWarning:\n",
      "\n",
      "Glyph 50984 (\\N{HANGUL SYLLABLE YUL}) missing from font(s) DejaVu Sans.\n",
      "\n"
     ]
    },
    {
     "data": {
      "image/png": "[encoded data removed]",
      "text/plain": [
       "<Figure size 1000x800 with 1 Axes>"
      ]
     },
     "metadata": {},
     "output_type": "display_data"
    }
   ],
   "source": [
    "import pandas as pd\n",
    "import matplotlib.pyplot as plt\n",
    "import numpy as np\n",
    "from matplotlib.patches import Polygon\n",
    "from matplotlib import cm\n",
    "\n",
    "# 데이터 로딩 및 전처리\n",
    "from module.df.data_loader import get_race_df\n",
    "df = get_race_df()\n",
    "df[\"count\"] = df[\"count\"].astype(float)\n",
    "race_summary = df.groupby(\"race\")[\"count\"].sum().reset_index()\n",
    "\n",
    "labels = race_summary[\"race\"].tolist()\n",
    "sizes = race_summary[\"count\"].tolist()\n",
    "total = sum(sizes)\n",
    "colors = cm.Set3(np.linspace(0, 1, len(sizes)))\n",
    "\n",
    "# 설정\n",
    "depth = 0.1       # 입체 깊이\n",
    "squash = 0.8      # y 스케일 압축 (기울기)\n",
    "theta1 = 90       # 시작 각도\n",
    "\n",
    "# 차트 초기화\n",
    "fig, ax = plt.subplots(figsize=(10, 8))\n",
    "ax.set_aspect('equal')\n",
    "\n",
    "for i, size in enumerate(sizes):\n",
    "    # 각도 계산\n",
    "    theta2 = theta1 - (size / total) * 360\n",
    "    # 촘촘한 각도 분할 (해결 핵심)\n",
    "    theta = np.linspace(theta1, theta2, 100)\n",
    "\n",
    "    # 윗면: 타원형 부채꼴 조각 (기울어진 시점에서의 파이차트)\n",
    "    x_top = np.concatenate([[0], np.cos(np.deg2rad(theta)), [0]])\n",
    "    y_top = np.concatenate([[0], np.sin(np.deg2rad(theta)) * squash, [0]])\n",
    "    top_patch = np.vstack([x_top, y_top]).T\n",
    "\n",
    "    # 아래면: 윗면을 depth만큼 아래로 내린 형태\n",
    "    x_bottom = x_top\n",
    "    y_bottom = y_top - depth\n",
    "    # 아래면은 윗면을 정확히 뒤집은 형태로 생성\n",
    "    bottom_patch = np.vstack([x_top, y_top - depth]).T\n",
    "\n",
    "    # 옆면 다각형: 윗면 테두리 + 아래면 테두리를 역순으로 정확히 연결\n",
    "    side_poly = np.vstack([top_patch[1:-1], bottom_patch[1:-1][::-1]])\n",
    "    ax.add_patch(Polygon(side_poly, closed=True, facecolor=np.array(colors[i]) * 0.6,\n",
    "                        edgecolor='black', linewidth=1))\n",
    "\n",
    "    # 마지막에 반드시 윗면을 한 번 더 덮어줘야 겹침 방지\n",
    "    ax.add_patch(Polygon(top_patch, closed=True,\n",
    "                        facecolor=colors[i], edgecolor='black', linewidth=1, zorder=3))\n",
    "\n",
    "    # 라벨 배치\n",
    "    mid_angle = (theta1 + theta2) / 2\n",
    "    mid_rad = np.deg2rad(mid_angle)\n",
    "    x_text = 1.3 * np.cos(mid_rad)\n",
    "    y_text = 1.3 * np.sin(mid_rad) * squash - depth / 2\n",
    "    percentage = sizes[i] / total * 100\n",
    "    count = int(sizes[i])\n",
    "    ax.text(\n",
    "        x_text,\n",
    "        y_text,\n",
    "        f\"{labels[i]} ({count}, {percentage:.1f}%)\",\n",
    "        ha='center',\n",
    "        va='center',\n",
    "        fontsize=10\n",
    "    )\n",
    "\n",
    "    theta1 = theta2\n",
    "\n",
    "# 마무리 시각 설정\n",
    "ax.set_xlim(-1.6, 1.6)\n",
    "ax.set_ylim(-1.5, 1.3)\n",
    "ax.set_title(\"인종별 증오표현 비율\", fontsize=16)\n",
    "plt.axis('off')\n",
    "plt.tight_layout()\n",
    "plt.show()\n"
   ]
  },
  {
   "cell_type": "code",
   "execution_count": 12,
   "id": "708912f6",
   "metadata": {},
   "outputs": [
    {
     "name": "stderr",
     "output_type": "stream",
     "text": [
      "C:\\Users\\mega3\\AppData\\Local\\Temp\\ipykernel_21324\\859968253.py:21: FutureWarning:\n",
      "\n",
      "The default of observed=False is deprecated and will be changed to True in a future version of pandas. Pass observed=False to retain current behavior or observed=True to adopt the future default and silence this warning.\n",
      "\n"
     ]
    },
    {
     "data": {
      "application/vnd.plotly.v1+json": {
       "config": {
        "plotlyServerURL": "https://plot.ly"
       },
       "data": [
        {
         "hovertemplate": "Score Range=0.0~0.1<br>Document Count=%{x}<br>Target Group (TGT)=%{y}<extra></extra>",
         "legendgroup": "0.0~0.1",
         "marker": {
          "color": "rgb(5,48,97)",
          "pattern": {
           "shape": ""
          }
         },
         "name": "0.0~0.1",
         "orientation": "h",
         "showlegend": true,
         "textposition": "auto",
         "type": "bar",
         "x": {
          "bdata": "dxhVB6IDIQI=",
          "dtype": "i2"
         },
         "xaxis": "x",
         "y": [
          "group",
          "individual",
          "untargeted",
          "other"
         ],
         "yaxis": "y"
        },
        {
         "hovertemplate": "Score Range=0.1~0.2<br>Document Count=%{x}<br>Target Group (TGT)=%{y}<extra></extra>",
         "legendgroup": "0.1~0.2",
         "marker": {
          "color": "rgb(33,102,172)",
          "pattern": {
           "shape": ""
          }
         },
         "name": "0.1~0.2",
         "orientation": "h",
         "showlegend": true,
         "textposition": "auto",
         "type": "bar",
         "x": {
          "bdata": "8QSfATMBrgA=",
          "dtype": "i2"
         },
         "xaxis": "x",
         "y": [
          "group",
          "individual",
          "untargeted",
          "other"
         ],
         "yaxis": "y"
        },
        {
         "hovertemplate": "Score Range=0.2~0.3<br>Document Count=%{x}<br>Target Group (TGT)=%{y}<extra></extra>",
         "legendgroup": "0.2~0.3",
         "marker": {
          "color": "rgb(67,147,195)",
          "pattern": {
           "shape": ""
          }
         },
         "name": "0.2~0.3",
         "orientation": "h",
         "showlegend": true,
         "textposition": "auto",
         "type": "bar",
         "x": {
          "bdata": "+gGqAI4ATAA=",
          "dtype": "i2"
         },
         "xaxis": "x",
         "y": [
          "group",
          "individual",
          "untargeted",
          "other"
         ],
         "yaxis": "y"
        },
        {
         "hovertemplate": "Score Range=0.3~0.4<br>Document Count=%{x}<br>Target Group (TGT)=%{y}<extra></extra>",
         "legendgroup": "0.3~0.4",
         "marker": {
          "color": "rgb(146,197,222)",
          "pattern": {
           "shape": ""
          }
         },
         "name": "0.3~0.4",
         "orientation": "h",
         "showlegend": true,
         "textposition": "auto",
         "type": "bar",
         "x": {
          "bdata": "cQFuAGgARgA=",
          "dtype": "i2"
         },
         "xaxis": "x",
         "y": [
          "group",
          "individual",
          "untargeted",
          "other"
         ],
         "yaxis": "y"
        },
        {
         "hovertemplate": "Score Range=0.4~0.5<br>Document Count=%{x}<br>Target Group (TGT)=%{y}<extra></extra>",
         "legendgroup": "0.4~0.5",
         "marker": {
          "color": "rgb(209,229,240)",
          "pattern": {
           "shape": ""
          }
         },
         "name": "0.4~0.5",
         "orientation": "h",
         "showlegend": true,
         "textposition": "auto",
         "type": "bar",
         "x": {
          "bdata": "SgF/AHcAMAA=",
          "dtype": "i2"
         },
         "xaxis": "x",
         "y": [
          "group",
          "individual",
          "untargeted",
          "other"
         ],
         "yaxis": "y"
        },
        {
         "hovertemplate": "Score Range=0.5~0.6<br>Document Count=%{x}<br>Target Group (TGT)=%{y}<extra></extra>",
         "legendgroup": "0.5~0.6",
         "marker": {
          "color": "rgb(247,247,247)",
          "pattern": {
           "shape": ""
          }
         },
         "name": "0.5~0.6",
         "orientation": "h",
         "showlegend": true,
         "textposition": "auto",
         "type": "bar",
         "x": {
          "bdata": "zwGZALcAUwA=",
          "dtype": "i2"
         },
         "xaxis": "x",
         "y": [
          "group",
          "individual",
          "untargeted",
          "other"
         ],
         "yaxis": "y"
        },
        {
         "hovertemplate": "Score Range=0.6~0.7<br>Document Count=%{x}<br>Target Group (TGT)=%{y}<extra></extra>",
         "legendgroup": "0.6~0.7",
         "marker": {
          "color": "rgb(253,219,199)",
          "pattern": {
           "shape": ""
          }
         },
         "name": "0.6~0.7",
         "orientation": "h",
         "showlegend": true,
         "textposition": "auto",
         "type": "bar",
         "x": {
          "bdata": "SALaAO4AaAA=",
          "dtype": "i2"
         },
         "xaxis": "x",
         "y": [
          "group",
          "individual",
          "untargeted",
          "other"
         ],
         "yaxis": "y"
        },
        {
         "hovertemplate": "Score Range=0.7~0.8<br>Document Count=%{x}<br>Target Group (TGT)=%{y}<extra></extra>",
         "legendgroup": "0.7~0.8",
         "marker": {
          "color": "rgb(244,165,130)",
          "pattern": {
           "shape": ""
          }
         },
         "name": "0.7~0.8",
         "orientation": "h",
         "showlegend": true,
         "textposition": "auto",
         "type": "bar",
         "x": {
          "bdata": "azE/GQ==",
          "dtype": "i1"
         },
         "xaxis": "x",
         "y": [
          "group",
          "individual",
          "untargeted",
          "other"
         ],
         "yaxis": "y"
        },
        {
         "hovertemplate": "Score Range=0.8~0.9<br>Document Count=%{x}<br>Target Group (TGT)=%{y}<extra></extra>",
         "legendgroup": "0.8~0.9",
         "marker": {
          "color": "rgb(214,96,77)",
          "pattern": {
           "shape": ""
          }
         },
         "name": "0.8~0.9",
         "orientation": "h",
         "showlegend": true,
         "textposition": "auto",
         "type": "bar",
         "x": {
          "bdata": "AAAAAA==",
          "dtype": "i1"
         },
         "xaxis": "x",
         "y": [
          "group",
          "individual",
          "untargeted",
          "other"
         ],
         "yaxis": "y"
        },
        {
         "hovertemplate": "Score Range=0.9~1.0<br>Document Count=%{x}<br>Target Group (TGT)=%{y}<extra></extra>",
         "legendgroup": "0.9~1.0",
         "marker": {
          "color": "rgb(178,24,43)",
          "pattern": {
           "shape": ""
          }
         },
         "name": "0.9~1.0",
         "orientation": "h",
         "showlegend": true,
         "textposition": "auto",
         "type": "bar",
         "x": {
          "bdata": "AAAAAA==",
          "dtype": "i1"
         },
         "xaxis": "x",
         "y": [
          "group",
          "individual",
          "untargeted",
          "other"
         ],
         "yaxis": "y"
        }
       ],
       "layout": {
        "barmode": "stack",
        "legend": {
         "title": {
          "text": "Offensive Score Bin"
         },
         "tracegroupgap": 0
        },
        "template": {
         "data": {
          "bar": [
           {
            "error_x": {
             "color": "#2a3f5f"
            },
            "error_y": {
             "color": "#2a3f5f"
            },
            "marker": {
             "line": {
              "color": "#E5ECF6",
              "width": 0.5
             },
             "pattern": {
              "fillmode": "overlay",
              "size": 10,
              "solidity": 0.2
             }
            },
            "type": "bar"
           }
          ],
          "barpolar": [
           {
            "marker": {
             "line": {
              "color": "#E5ECF6",
              "width": 0.5
             },
             "pattern": {
              "fillmode": "overlay",
              "size": 10,
              "solidity": 0.2
             }
            },
            "type": "barpolar"
           }
          ],
          "carpet": [
           {
            "aaxis": {
             "endlinecolor": "#2a3f5f",
             "gridcolor": "white",
             "linecolor": "white",
             "minorgridcolor": "white",
             "startlinecolor": "#2a3f5f"
            },
            "baxis": {
             "endlinecolor": "#2a3f5f",
             "gridcolor": "white",
             "linecolor": "white",
             "minorgridcolor": "white",
             "startlinecolor": "#2a3f5f"
            },
            "type": "carpet"
           }
          ],
          "choropleth": [
           {
            "colorbar": {
             "outlinewidth": 0,
             "ticks": ""
            },
            "type": "choropleth"
           }
          ],
          "contour": [
           {
            "colorbar": {
             "outlinewidth": 0,
             "ticks": ""
            },
            "colorscale": [
             [
              0,
              "#0d0887"
             ],
             [
              0.1111111111111111,
              "#46039f"
             ],
             [
              0.2222222222222222,
              "#7201a8"
             ],
             [
              0.3333333333333333,
              "#9c179e"
             ],
             [
              0.4444444444444444,
              "#bd3786"
             ],
             [
              0.5555555555555556,
              "#d8576b"
             ],
             [
              0.6666666666666666,
              "#ed7953"
             ],
             [
              0.7777777777777778,
              "#fb9f3a"
             ],
             [
              0.8888888888888888,
              "#fdca26"
             ],
             [
              1,
              "#f0f921"
             ]
            ],
            "type": "contour"
           }
          ],
          "contourcarpet": [
           {
            "colorbar": {
             "outlinewidth": 0,
             "ticks": ""
            },
            "type": "contourcarpet"
           }
          ],
          "heatmap": [
           {
            "colorbar": {
             "outlinewidth": 0,
             "ticks": ""
            },
            "colorscale": [
             [
              0,
              "#0d0887"
             ],
             [
              0.1111111111111111,
              "#46039f"
             ],
             [
              0.2222222222222222,
              "#7201a8"
             ],
             [
              0.3333333333333333,
              "#9c179e"
             ],
             [
              0.4444444444444444,
              "#bd3786"
             ],
             [
              0.5555555555555556,
              "#d8576b"
             ],
             [
              0.6666666666666666,
              "#ed7953"
             ],
             [
              0.7777777777777778,
              "#fb9f3a"
             ],
             [
              0.8888888888888888,
              "#fdca26"
             ],
             [
              1,
              "#f0f921"
             ]
            ],
            "type": "heatmap"
           }
          ],
          "histogram": [
           {
            "marker": {
             "pattern": {
              "fillmode": "overlay",
              "size": 10,
              "solidity": 0.2
             }
            },
            "type": "histogram"
           }
          ],
          "histogram2d": [
           {
            "colorbar": {
             "outlinewidth": 0,
             "ticks": ""
            },
            "colorscale": [
             [
              0,
              "#0d0887"
             ],
             [
              0.1111111111111111,
              "#46039f"
             ],
             [
              0.2222222222222222,
              "#7201a8"
             ],
             [
              0.3333333333333333,
              "#9c179e"
             ],
             [
              0.4444444444444444,
              "#bd3786"
             ],
             [
              0.5555555555555556,
              "#d8576b"
             ],
             [
              0.6666666666666666,
              "#ed7953"
             ],
             [
              0.7777777777777778,
              "#fb9f3a"
             ],
             [
              0.8888888888888888,
              "#fdca26"
             ],
             [
              1,
              "#f0f921"
             ]
            ],
            "type": "histogram2d"
           }
          ],
          "histogram2dcontour": [
           {
            "colorbar": {
             "outlinewidth": 0,
             "ticks": ""
            },
            "colorscale": [
             [
              0,
              "#0d0887"
             ],
             [
              0.1111111111111111,
              "#46039f"
             ],
             [
              0.2222222222222222,
              "#7201a8"
             ],
             [
              0.3333333333333333,
              "#9c179e"
             ],
             [
              0.4444444444444444,
              "#bd3786"
             ],
             [
              0.5555555555555556,
              "#d8576b"
             ],
             [
              0.6666666666666666,
              "#ed7953"
             ],
             [
              0.7777777777777778,
              "#fb9f3a"
             ],
             [
              0.8888888888888888,
              "#fdca26"
             ],
             [
              1,
              "#f0f921"
             ]
            ],
            "type": "histogram2dcontour"
           }
          ],
          "mesh3d": [
           {
            "colorbar": {
             "outlinewidth": 0,
             "ticks": ""
            },
            "type": "mesh3d"
           }
          ],
          "parcoords": [
           {
            "line": {
             "colorbar": {
              "outlinewidth": 0,
              "ticks": ""
             }
            },
            "type": "parcoords"
           }
          ],
          "pie": [
           {
            "automargin": true,
            "type": "pie"
           }
          ],
          "scatter": [
           {
            "fillpattern": {
             "fillmode": "overlay",
             "size": 10,
             "solidity": 0.2
            },
            "type": "scatter"
           }
          ],
          "scatter3d": [
           {
            "line": {
             "colorbar": {
              "outlinewidth": 0,
              "ticks": ""
             }
            },
            "marker": {
             "colorbar": {
              "outlinewidth": 0,
              "ticks": ""
             }
            },
            "type": "scatter3d"
           }
          ],
          "scattercarpet": [
           {
            "marker": {
             "colorbar": {
              "outlinewidth": 0,
              "ticks": ""
             }
            },
            "type": "scattercarpet"
           }
          ],
          "scattergeo": [
           {
            "marker": {
             "colorbar": {
              "outlinewidth": 0,
              "ticks": ""
             }
            },
            "type": "scattergeo"
           }
          ],
          "scattergl": [
           {
            "marker": {
             "colorbar": {
              "outlinewidth": 0,
              "ticks": ""
             }
            },
            "type": "scattergl"
           }
          ],
          "scattermap": [
           {
            "marker": {
             "colorbar": {
              "outlinewidth": 0,
              "ticks": ""
             }
            },
            "type": "scattermap"
           }
          ],
          "scattermapbox": [
           {
            "marker": {
             "colorbar": {
              "outlinewidth": 0,
              "ticks": ""
             }
            },
            "type": "scattermapbox"
           }
          ],
          "scatterpolar": [
           {
            "marker": {
             "colorbar": {
              "outlinewidth": 0,
              "ticks": ""
             }
            },
            "type": "scatterpolar"
           }
          ],
          "scatterpolargl": [
           {
            "marker": {
             "colorbar": {
              "outlinewidth": 0,
              "ticks": ""
             }
            },
            "type": "scatterpolargl"
           }
          ],
          "scatterternary": [
           {
            "marker": {
             "colorbar": {
              "outlinewidth": 0,
              "ticks": ""
             }
            },
            "type": "scatterternary"
           }
          ],
          "surface": [
           {
            "colorbar": {
             "outlinewidth": 0,
             "ticks": ""
            },
            "colorscale": [
             [
              0,
              "#0d0887"
             ],
             [
              0.1111111111111111,
              "#46039f"
             ],
             [
              0.2222222222222222,
              "#7201a8"
             ],
             [
              0.3333333333333333,
              "#9c179e"
             ],
             [
              0.4444444444444444,
              "#bd3786"
             ],
             [
              0.5555555555555556,
              "#d8576b"
             ],
             [
              0.6666666666666666,
              "#ed7953"
             ],
             [
              0.7777777777777778,
              "#fb9f3a"
             ],
             [
              0.8888888888888888,
              "#fdca26"
             ],
             [
              1,
              "#f0f921"
             ]
            ],
            "type": "surface"
           }
          ],
          "table": [
           {
            "cells": {
             "fill": {
              "color": "#EBF0F8"
             },
             "line": {
              "color": "white"
             }
            },
            "header": {
             "fill": {
              "color": "#C8D4E3"
             },
             "line": {
              "color": "white"
             }
            },
            "type": "table"
           }
          ]
         },
         "layout": {
          "annotationdefaults": {
           "arrowcolor": "#2a3f5f",
           "arrowhead": 0,
           "arrowwidth": 1
          },
          "autotypenumbers": "strict",
          "coloraxis": {
           "colorbar": {
            "outlinewidth": 0,
            "ticks": ""
           }
          },
          "colorscale": {
           "diverging": [
            [
             0,
             "#8e0152"
            ],
            [
             0.1,
             "#c51b7d"
            ],
            [
             0.2,
             "#de77ae"
            ],
            [
             0.3,
             "#f1b6da"
            ],
            [
             0.4,
             "#fde0ef"
            ],
            [
             0.5,
             "#f7f7f7"
            ],
            [
             0.6,
             "#e6f5d0"
            ],
            [
             0.7,
             "#b8e186"
            ],
            [
             0.8,
             "#7fbc41"
            ],
            [
             0.9,
             "#4d9221"
            ],
            [
             1,
             "#276419"
            ]
           ],
           "sequential": [
            [
             0,
             "#0d0887"
            ],
            [
             0.1111111111111111,
             "#46039f"
            ],
            [
             0.2222222222222222,
             "#7201a8"
            ],
            [
             0.3333333333333333,
             "#9c179e"
            ],
            [
             0.4444444444444444,
             "#bd3786"
            ],
            [
             0.5555555555555556,
             "#d8576b"
            ],
            [
             0.6666666666666666,
             "#ed7953"
            ],
            [
             0.7777777777777778,
             "#fb9f3a"
            ],
            [
             0.8888888888888888,
             "#fdca26"
            ],
            [
             1,
             "#f0f921"
            ]
           ],
           "sequentialminus": [
            [
             0,
             "#0d0887"
            ],
            [
             0.1111111111111111,
             "#46039f"
            ],
            [
             0.2222222222222222,
             "#7201a8"
            ],
            [
             0.3333333333333333,
             "#9c179e"
            ],
            [
             0.4444444444444444,
             "#bd3786"
            ],
            [
             0.5555555555555556,
             "#d8576b"
            ],
            [
             0.6666666666666666,
             "#ed7953"
            ],
            [
             0.7777777777777778,
             "#fb9f3a"
            ],
            [
             0.8888888888888888,
             "#fdca26"
            ],
            [
             1,
             "#f0f921"
            ]
           ]
          },
          "colorway": [
           "#636efa",
           "#EF553B",
           "#00cc96",
           "#ab63fa",
           "#FFA15A",
           "#19d3f3",
           "#FF6692",
           "#B6E880",
           "#FF97FF",
           "#FECB52"
          ],
          "font": {
           "color": "#2a3f5f"
          },
          "geo": {
           "bgcolor": "white",
           "lakecolor": "white",
           "landcolor": "#E5ECF6",
           "showlakes": true,
           "showland": true,
           "subunitcolor": "white"
          },
          "hoverlabel": {
           "align": "left"
          },
          "hovermode": "closest",
          "mapbox": {
           "style": "light"
          },
          "paper_bgcolor": "white",
          "plot_bgcolor": "#E5ECF6",
          "polar": {
           "angularaxis": {
            "gridcolor": "white",
            "linecolor": "white",
            "ticks": ""
           },
           "bgcolor": "#E5ECF6",
           "radialaxis": {
            "gridcolor": "white",
            "linecolor": "white",
            "ticks": ""
           }
          },
          "scene": {
           "xaxis": {
            "backgroundcolor": "#E5ECF6",
            "gridcolor": "white",
            "gridwidth": 2,
            "linecolor": "white",
            "showbackground": true,
            "ticks": "",
            "zerolinecolor": "white"
           },
           "yaxis": {
            "backgroundcolor": "#E5ECF6",
            "gridcolor": "white",
            "gridwidth": 2,
            "linecolor": "white",
            "showbackground": true,
            "ticks": "",
            "zerolinecolor": "white"
           },
           "zaxis": {
            "backgroundcolor": "#E5ECF6",
            "gridcolor": "white",
            "gridwidth": 2,
            "linecolor": "white",
            "showbackground": true,
            "ticks": "",
            "zerolinecolor": "white"
           }
          },
          "shapedefaults": {
           "line": {
            "color": "#2a3f5f"
           }
          },
          "ternary": {
           "aaxis": {
            "gridcolor": "white",
            "linecolor": "white",
            "ticks": ""
           },
           "baxis": {
            "gridcolor": "white",
            "linecolor": "white",
            "ticks": ""
           },
           "bgcolor": "#E5ECF6",
           "caxis": {
            "gridcolor": "white",
            "linecolor": "white",
            "ticks": ""
           }
          },
          "title": {
           "x": 0.05
          },
          "xaxis": {
           "automargin": true,
           "gridcolor": "white",
           "linecolor": "white",
           "ticks": "",
           "title": {
            "standoff": 15
           },
           "zerolinecolor": "white",
           "zerolinewidth": 2
          },
          "yaxis": {
           "automargin": true,
           "gridcolor": "white",
           "linecolor": "white",
           "ticks": "",
           "title": {
            "standoff": 15
           },
           "zerolinecolor": "white",
           "zerolinewidth": 2
          }
         }
        },
        "title": {
         "text": "Binned Offensive Score Distribution by TGT (Horizontal)"
        },
        "xaxis": {
         "anchor": "y",
         "domain": [
          0,
          1
         ],
         "title": {
          "text": "Document Count (aggregated)"
         }
        },
        "yaxis": {
         "anchor": "x",
         "domain": [
          0,
          1
         ],
         "title": {
          "text": "Target (TGT)"
         }
        }
       }
      }
     },
     "metadata": {},
     "output_type": "display_data"
    }
   ],
   "source": [
    "import pandas as pd\n",
    "import plotly.express as px\n",
    "import numpy as np\n",
    "\n",
    "# 데이터 로딩 및 전처리\n",
    "from module.df.data_loader import get_target_group_df\n",
    "\n",
    "df = get_target_group_df()\n",
    "\n",
    "# TGT 정렬\n",
    "TGT_order = [\"group\", \"individual\", \"untargeted\", \"other\"]\n",
    "df = df[df[\"TGT\"].isin(TGT_order)].copy()\n",
    "df[\"TGT\"] = pd.Categorical(df[\"TGT\"], categories=TGT_order, ordered=True)\n",
    "\n",
    "# ✅ offensive_score를 구간화 (0.1 단위)\n",
    "bins = np.arange(0, 1.1, 0.1)\n",
    "labels = [f\"{round(bins[i], 1)}~{round(bins[i+1], 1)}\" for i in range(len(bins)-1)]\n",
    "df[\"score_bin\"] = pd.cut(df[\"offensive_score\"], bins=bins, labels=labels, include_lowest=True)\n",
    "\n",
    "# ✅ Aggregation: TGT × score_bin 별 document 수 count\n",
    "agg_df = df.groupby([\"TGT\", \"score_bin\"]).size().reset_index(name=\"count\")\n",
    "\n",
    "# ✅ 누락된 조합 채워주기 (0 count 포함)\n",
    "agg_df = agg_df.pivot(index=\"TGT\", columns=\"score_bin\", values=\"count\").fillna(0).reset_index()\n",
    "agg_df = pd.melt(agg_df, id_vars=[\"TGT\"], var_name=\"score_bin\", value_name=\"count\")\n",
    "\n",
    "# ✅ 컬러 매핑 (score_bin 별 색상)\n",
    "color_map = px.colors.sequential.RdBu[::-1]  # red→blue\n",
    "color_discrete_map = {label: color_map[i] for i, label in enumerate(labels)}\n",
    "\n",
    "# ✅ 시각화 (score_bin을 색상으로, count를 y축으로)\n",
    "fig = px.bar(\n",
    "    agg_df,\n",
    "    x=\"count\",              # ✅ x → count\n",
    "    y=\"TGT\",                # ✅ y → TGT (이제 막대가 수평 방향으로)\n",
    "    color=\"score_bin\",\n",
    "    color_discrete_map=color_discrete_map,\n",
    "    orientation=\"h\",        # ✅ 수평 막대 그래프임을 명시\n",
    "    labels={\"count\": \"Document Count\", \"TGT\": \"Target Group (TGT)\", \"score_bin\": \"Score Range\"},\n",
    "    title=\"Binned Offensive Score Distribution by TGT (Horizontal)\"\n",
    ")\n",
    "\n",
    "fig.update_layout(\n",
    "    xaxis_title=\"Document Count (aggregated)\",  # ✅ x축은 count\n",
    "    yaxis_title=\"Target (TGT)\",                 # ✅ y축은 TGT\n",
    "    legend_title=\"Offensive Score Bin\",\n",
    "    barmode=\"stack\"\n",
    ")\n",
    "\n",
    "fig.show()"
   ]
  }
 ],
 "metadata": {
  "kernelspec": {
   "display_name": "Python 3",
   "language": "python",
   "name": "python3"
  },
  "language_info": {
   "codemirror_mode": {
    "name": "ipython",
    "version": 3
   },
   "file_extension": ".py",
   "mimetype": "text/x-python",
   "name": "python",
   "nbconvert_exporter": "python",
   "pygments_lexer": "ipython3",
   "version": "3.11.9"
  }
 },
 "nbformat": 4,
 "nbformat_minor": 5
}
